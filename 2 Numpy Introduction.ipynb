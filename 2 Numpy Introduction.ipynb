{
 "cells": [
  {
   "cell_type": "markdown",
   "metadata": {},
   "source": [
    "# Numpy \n",
    "\n",
    "Fundamental building block of scientific Python.\n",
    "* Powerful and highly flexible [array class](https://numpy.org/doc/stable/reference/generated/numpy.array.html); your new ubiquitous working unit.\n",
    "* We will often refer to these objects as $\\textit{matrices}$, although this should not be confused with Numpy's less used [matrix class](https://numpy.org/doc/stable/reference/generated/numpy.matrix.html)\n",
    "* Set of most common mathematical utilities (constants, random numbers, linear algebra functions).\n",
    "\n",
    "When doing multiple identical mathematical or boolean operations you should prefer numpy `array` objects over build-in python datatypes. Numpy performs operations in an optimized manner. You can get rid of many `while` and `for` loops and obtain fast, scalable and readable code by using `array` objects and the functions provided by `numpy` and `scipy`."
   ]
  },
  {
   "cell_type": "markdown",
   "metadata": {},
   "source": [
    "## Import"
   ]
  },
  {
   "cell_type": "code",
   "execution_count": 105,
   "metadata": {},
   "outputs": [],
   "source": [
    "# imports\n",
    "import numpy as np                 # It will be used a lot, so the shorthand is helpful.\n",
    "import matplotlib.pyplot as plt    # Same here.\n",
    "\n",
    "# ipython magic function to show the plots inline in the notebook\n",
    "%matplotlib inline"
   ]
  },
  {
   "cell_type": "markdown",
   "metadata": {},
   "source": [
    "## Numpy array basics\n",
    "\n",
    "A numpy array is a collections of values all of the same type. A numpy array **cannot** change their size once they are created, but they **can** change their shape, i.e., an array will always hold the same number of elements, but their organization into rows and columns may change as desired.\n",
    "* **ndarray.ndim:** The number of axes/dimensions of an array. The default matrix used for math problems is of dimensionality 2.\n",
    "* **ndarray.shape:** A tuple of integers indicating the size of an array in each dimension. For a matrix with n rows and m columns, shape will be (n,m). The length of the shape tuple is therefore the rank, or number of dimensions, ndim. \n",
    "* **ndarray.size:** The total number of elements of the array. This is equal to the product of the elements of shape. \n",
    "* **ndarray.dtype:** The data type of the array elements. Defaults to the type of the elements in the array can be set when the array is created.\n",
    "\n",
    "(*see:* [Numpy basics](https://docs.scipy.org/doc/numpy/user/quickstart.html) )"
   ]
  },
  {
   "cell_type": "code",
   "execution_count": 106,
   "metadata": {},
   "outputs": [
    {
     "name": "stdout",
     "output_type": "stream",
     "text": [
      "[[1 2 3]\n",
      " [4 5 6]\n",
      " [7 8 9]]\n",
      "int32\n",
      "(3, 3)\n"
     ]
    }
   ],
   "source": [
    "m = np.array([[1,2,3],\n",
    "              [4,5,6],\n",
    "              [7,8,9]], dtype=np.int32) # np.float32, np.float64, np.complex64, np.complex128\n",
    "print(m)\n",
    "print(m.dtype)\n",
    "print(m.shape)"
   ]
  },
  {
   "cell_type": "markdown",
   "metadata": {},
   "source": [
    "### Under the hood\n",
    "Numpy arrays believe in sharing is caring and will share their data with other arrays. Slicing does NOT return a new array, but instead a *view* on the data of the same array (except when the slice returns a scalar):"
   ]
  },
  {
   "cell_type": "code",
   "execution_count": 107,
   "metadata": {},
   "outputs": [
    {
     "name": "stdout",
     "output_type": "stream",
     "text": [
      "BEFORE\n",
      "[4 5 6] slice \n",
      "\n",
      "[[1 2 3]\n",
      " [4 5 6]\n",
      " [7 8 9]] \n",
      "\n",
      "AFTER\n",
      "[0 5 6] slice\n",
      "\n",
      "[[1 2 3]\n",
      " [0 5 6]\n",
      " [7 8 9]] \n",
      "\n"
     ]
    }
   ],
   "source": [
    "s = m[1]\n",
    "print('BEFORE')\n",
    "print(s, 'slice', '\\n')\n",
    "print(m, '\\n')\n",
    "s[0] = 0\n",
    "print('AFTER')\n",
    "print(s, 'slice' '\\n')\n",
    "print(m, '\\n')"
   ]
  },
  {
   "cell_type": "markdown",
   "metadata": {},
   "source": [
    "You can check whether an array actually owns its data by looking at its flags:"
   ]
  },
  {
   "cell_type": "code",
   "execution_count": 108,
   "metadata": {},
   "outputs": [
    {
     "name": "stdout",
     "output_type": "stream",
     "text": [
      "  C_CONTIGUOUS : True\n",
      "  F_CONTIGUOUS : False\n",
      "  OWNDATA : True\n",
      "  WRITEABLE : True\n",
      "  ALIGNED : True\n",
      "  WRITEBACKIFCOPY : False\n",
      "  UPDATEIFCOPY : False\n",
      "\n",
      "  C_CONTIGUOUS : True\n",
      "  F_CONTIGUOUS : True\n",
      "  OWNDATA : False\n",
      "  WRITEABLE : True\n",
      "  ALIGNED : True\n",
      "  WRITEBACKIFCOPY : False\n",
      "  UPDATEIFCOPY : False\n",
      "\n"
     ]
    }
   ],
   "source": [
    "print(m.flags)\n",
    "print(s.flags)"
   ]
  },
  {
   "cell_type": "markdown",
   "metadata": {},
   "source": [
    "## Array creation"
   ]
  },
  {
   "cell_type": "code",
   "execution_count": 109,
   "metadata": {},
   "outputs": [],
   "source": [
    "# helper function for examples below; plots the graphical depiction of a given numpy array\n",
    "def show_matrix(X):\n",
    "    Y = np.array(np.array(X, ndmin=2))  # 1D -> 2D\n",
    "    vmin = min(np.min(Y), 0)\n",
    "    vmax = max(np.max(Y), 1)\n",
    "    fig, ax = plt.subplots(figsize=(4, 3))\n",
    "    img = ax.imshow(Y, interpolation='none', vmin=vmin, vmax=vmax)\n",
    "    fig.colorbar(img)\n",
    "    print(X)"
   ]
  },
  {
   "cell_type": "code",
   "execution_count": 110,
   "metadata": {},
   "outputs": [
    {
     "name": "stdout",
     "output_type": "stream",
     "text": [
      "[0. 0. 0. 0. 0. 0. 0. 0. 0.]\n"
     ]
    },
    {
     "data": {
      "image/png": "[encoded data removed]",
      "text/plain": [
       "<Figure size 288x216 with 2 Axes>"
      ]
     },
     "metadata": {
      "needs_background": "light"
     },
     "output_type": "display_data"
    }
   ],
   "source": [
    "Z = np.zeros(9)\n",
    "show_matrix(Z)"
   ]
  },
  {
   "cell_type": "code",
   "execution_count": 111,
   "metadata": {},
   "outputs": [
    {
     "name": "stdout",
     "output_type": "stream",
     "text": [
      "[[0. 0. 0. 0. 0. 0. 0. 0. 0.]\n",
      " [0. 0. 0. 0. 0. 0. 0. 0. 0.]\n",
      " [0. 0. 0. 0. 0. 0. 0. 0. 0.]\n",
      " [0. 0. 0. 0. 0. 0. 0. 0. 0.]\n",
      " [0. 0. 0. 0. 0. 0. 0. 0. 0.]]\n"
     ]
    },
    {
     "data": {
      "image/png": "[encoded data removed]",
      "text/plain": [
       "<Figure size 288x216 with 2 Axes>"
      ]
     },
     "metadata": {
      "needs_background": "light"
     },
     "output_type": "display_data"
    }
   ],
   "source": [
    "Z = np.zeros((5,9))\n",
    "show_matrix(Z)"
   ]
  },
  {
   "cell_type": "code",
   "execution_count": 112,
   "metadata": {
    "scrolled": true
   },
   "outputs": [
    {
     "name": "stdout",
     "output_type": "stream",
     "text": [
      "[1. 1. 1. 1. 1. 1. 1. 1. 1.]\n"
     ]
    },
    {
     "data": {
      "image/png": "[encoded data removed]",
      "text/plain": [
       "<Figure size 288x216 with 2 Axes>"
      ]
     },
     "metadata": {
      "needs_background": "light"
     },
     "output_type": "display_data"
    }
   ],
   "source": [
    "Z = np.ones(9)\n",
    "show_matrix(Z)"
   ]
  },
  {
   "cell_type": "code",
   "execution_count": 113,
   "metadata": {},
   "outputs": [
    {
     "name": "stdout",
     "output_type": "stream",
     "text": [
      "[[1. 1. 1. 1. 1. 1. 1. 1. 1.]\n",
      " [1. 1. 1. 1. 1. 1. 1. 1. 1.]\n",
      " [1. 1. 1. 1. 1. 1. 1. 1. 1.]\n",
      " [1. 1. 1. 1. 1. 1. 1. 1. 1.]\n",
      " [1. 1. 1. 1. 1. 1. 1. 1. 1.]]\n"
     ]
    },
    {
     "data": {
      "image/png": "[encoded data removed]",
      "text/plain": [
       "<Figure size 288x216 with 2 Axes>"
      ]
     },
     "metadata": {
      "needs_background": "light"
     },
     "output_type": "display_data"
    }
   ],
   "source": [
    "Z = np.ones((5,9))\n",
    "show_matrix(Z)"
   ]
  },
  {
   "cell_type": "code",
   "execution_count": 114,
   "metadata": {},
   "outputs": [
    {
     "name": "stdout",
     "output_type": "stream",
     "text": [
      "[0 0 0 0 0 0 0 0 0]\n"
     ]
    },
    {
     "data": {
      "image/png": "[encoded data removed]",
      "text/plain": [
       "<Figure size 288x216 with 2 Axes>"
      ]
     },
     "metadata": {
      "needs_background": "light"
     },
     "output_type": "display_data"
    }
   ],
   "source": [
    "Z = np.array( [0,0,0,0,0,0,0,0,0] )\n",
    "show_matrix(Z)"
   ]
  },
  {
   "cell_type": "code",
   "execution_count": 115,
   "metadata": {},
   "outputs": [
    {
     "name": "stdout",
     "output_type": "stream",
     "text": [
      "[[0 0 0 0 0 0 0 0 0]\n",
      " [0 0 0 0 0 0 0 0 0]\n",
      " [0 0 0 0 0 0 0 0 0]\n",
      " [0 0 0 0 0 0 0 0 0]\n",
      " [0 0 0 0 0 0 0 0 0]]\n"
     ]
    },
    {
     "data": {
      "image/png": "[encoded data removed]",
      "text/plain": [
       "<Figure size 288x216 with 2 Axes>"
      ]
     },
     "metadata": {
      "needs_background": "light"
     },
     "output_type": "display_data"
    }
   ],
   "source": [
    "Z = np.array( [[0,0,0,0,0,0,0,0,0],\n",
    "               [0,0,0,0,0,0,0,0,0],\n",
    "               [0,0,0,0,0,0,0,0,0],\n",
    "               [0,0,0,0,0,0,0,0,0],\n",
    "               [0,0,0,0,0,0,0,0,0]] )\n",
    "show_matrix(Z)"
   ]
  },
  {
   "cell_type": "code",
   "execution_count": 116,
   "metadata": {},
   "outputs": [
    {
     "name": "stdout",
     "output_type": "stream",
     "text": [
      "[0 1 2 3 4 5 6 7 8]\n"
     ]
    },
    {
     "data": {
      "image/png": "[encoded data removed]",
      "text/plain": [
       "<Figure size 288x216 with 2 Axes>"
      ]
     },
     "metadata": {
      "needs_background": "light"
     },
     "output_type": "display_data"
    }
   ],
   "source": [
    "Z = np.arange(9)    # the numpy arange function also allows floating point arguments\n",
    "show_matrix(Z)"
   ]
  },
  {
   "cell_type": "markdown",
   "metadata": {},
   "source": [
    "(*see also:* [linspace](https://docs.scipy.org/doc/numpy/reference/generated/numpy.linspace.html))"
   ]
  },
  {
   "cell_type": "code",
   "execution_count": 117,
   "metadata": {},
   "outputs": [
    {
     "name": "stdout",
     "output_type": "stream",
     "text": [
      "[[ 0  1  2  3  4  5  6  7  8]\n",
      " [ 9 10 11 12 13 14 15 16 17]\n",
      " [18 19 20 21 22 23 24 25 26]\n",
      " [27 28 29 30 31 32 33 34 35]\n",
      " [36 37 38 39 40 41 42 43 44]]\n"
     ]
    },
    {
     "data": {
      "image/png": "[encoded data removed]",
      "text/plain": [
       "<Figure size 288x216 with 2 Axes>"
      ]
     },
     "metadata": {
      "needs_background": "light"
     },
     "output_type": "display_data"
    }
   ],
   "source": [
    "Z = np.arange(5*9).reshape(5,9)\n",
    "show_matrix(Z)"
   ]
  },
  {
   "cell_type": "markdown",
   "metadata": {},
   "source": [
    "- Reshape must not change the total number of elements in the array.\n",
    "- A vector of length ***n*** and a matrix of dimensions (1,***n***) ARE NOT THE SAME THING!"
   ]
  },
  {
   "cell_type": "code",
   "execution_count": 118,
   "metadata": {},
   "outputs": [
    {
     "name": "stdout",
     "output_type": "stream",
     "text": [
      "[0.41698987 0.98965851 0.24763556 0.76968523 0.8738182  0.8230475\n",
      " 0.6613429  0.84289755 0.44249428]\n"
     ]
    },
    {
     "data": {
      "image/png": "[encoded data removed]",
      "text/plain": [
       "<Figure size 288x216 with 2 Axes>"
      ]
     },
     "metadata": {
      "needs_background": "light"
     },
     "output_type": "display_data"
    }
   ],
   "source": [
    "Z = np.random.uniform(0,1,9)  # args: min, max, no. of elements\n",
    "show_matrix(Z)"
   ]
  },
  {
   "cell_type": "code",
   "execution_count": 119,
   "metadata": {},
   "outputs": [
    {
     "name": "stdout",
     "output_type": "stream",
     "text": [
      "[[0.6436227  0.49052151 0.05557708 0.25696779 0.62834767 0.36663994\n",
      "  0.937704   0.70654308 0.25512238]\n",
      " [0.09032745 0.5539158  0.71025557 0.26588008 0.50986325 0.12681315\n",
      "  0.11031701 0.20165612 0.4783295 ]\n",
      " [0.44534442 0.65448317 0.31786706 0.90617398 0.09152772 0.54765753\n",
      "  0.89524993 0.29743703 0.57207703]\n",
      " [0.60762919 0.26761347 0.08521688 0.5401692  0.06535868 0.73519038\n",
      "  0.3331054  0.64091976 0.13843531]\n",
      " [0.21852365 0.12821802 0.48771784 0.70874801 0.61996222 0.48465552\n",
      "  0.92125651 0.17935331 0.52964077]]\n"
     ]
    },
    {
     "data": {
      "image/png": "[encoded data removed]",
      "text/plain": [
       "<Figure size 288x216 with 2 Axes>"
      ]
     },
     "metadata": {
      "needs_background": "light"
     },
     "output_type": "display_data"
    }
   ],
   "source": [
    "Z = np.random.uniform(0, 1, (5, 9))\n",
    "show_matrix(Z)"
   ]
  },
  {
   "cell_type": "markdown",
   "metadata": {},
   "source": [
    "(*see:* [Numpy array creation](https://docs.scipy.org/doc/numpy/user/basics.creation.html) & [Numpy array reshaping](https://docs.scipy.org/doc/numpy/reference/generated/numpy.reshape.html))"
   ]
  },
  {
   "cell_type": "markdown",
   "metadata": {},
   "source": [
    "## Array indexing"
   ]
  },
  {
   "cell_type": "code",
   "execution_count": 120,
   "metadata": {},
   "outputs": [
    {
     "name": "stdout",
     "output_type": "stream",
     "text": [
      "[[0. 0. 0. 0. 0. 0. 0. 0. 0.]\n",
      " [0. 1. 0. 0. 0. 0. 0. 0. 0.]\n",
      " [0. 0. 0. 0. 0. 0. 0. 0. 0.]\n",
      " [0. 0. 0. 0. 0. 0. 0. 0. 0.]\n",
      " [0. 0. 0. 0. 0. 0. 0. 0. 0.]]\n"
     ]
    },
    {
     "data": {
      "image/png": "[encoded data removed]",
      "text/plain": [
       "<Figure size 288x216 with 2 Axes>"
      ]
     },
     "metadata": {
      "needs_background": "light"
     },
     "output_type": "display_data"
    }
   ],
   "source": [
    "# single element\n",
    "Z = np.zeros((5, 9))\n",
    "Z[1,1] = 1\n",
    "show_matrix(Z)"
   ]
  },
  {
   "cell_type": "code",
   "execution_count": 121,
   "metadata": {},
   "outputs": [
    {
     "name": "stdout",
     "output_type": "stream",
     "text": [
      "[[0. 0. 0. 0. 0. 0. 0. 0. 0.]\n",
      " [1. 1. 1. 1. 1. 1. 1. 1. 1.]\n",
      " [0. 0. 0. 0. 0. 0. 0. 0. 0.]\n",
      " [0. 0. 0. 0. 0. 0. 0. 0. 0.]\n",
      " [0. 0. 0. 0. 0. 0. 0. 0. 0.]]"
     ]
    },
    {
     "name": "stdout",
     "output_type": "stream",
     "text": [
      "\n"
     ]
    },
    {
     "data": {
      "image/png": "[encoded data removed]",
      "text/plain": [
       "<Figure size 288x216 with 2 Axes>"
      ]
     },
     "metadata": {
      "needs_background": "light"
     },
     "output_type": "display_data"
    }
   ],
   "source": [
    "# single row\n",
    "Z = np.zeros((5, 9))\n",
    "Z[1,:] = 1\n",
    "show_matrix(Z)"
   ]
  },
  {
   "cell_type": "code",
   "execution_count": 122,
   "metadata": {},
   "outputs": [
    {
     "name": "stdout",
     "output_type": "stream",
     "text": [
      "[[0. 1. 0. 0. 0. 0. 0. 0. 0.]\n",
      " [0. 1. 0. 0. 0. 0. 0. 0. 0.]\n",
      " [0. 1. 0. 0. 0. 0. 0. 0. 0.]\n",
      " [0. 1. 0. 0. 0. 0. 0. 0. 0.]\n",
      " [0. 1. 0. 0. 0. 0. 0. 0. 0.]]\n"
     ]
    },
    {
     "data": {
      "image/png": "[encoded data removed]",
      "text/plain": [
       "<Figure size 288x216 with 2 Axes>"
      ]
     },
     "metadata": {
      "needs_background": "light"
     },
     "output_type": "display_data"
    }
   ],
   "source": [
    "# single column\n",
    "Z = np.zeros((5, 9))\n",
    "Z[:,1] = 1\n",
    "show_matrix(Z)"
   ]
  },
  {
   "cell_type": "code",
   "execution_count": 123,
   "metadata": {},
   "outputs": [
    {
     "name": "stdout",
     "output_type": "stream",
     "text": [
      "[[0. 0. 0. 0. 0. 0. 0. 0. 0.]\n",
      " [0. 0. 0. 0. 0. 0. 0. 0. 0.]\n",
      " [0. 0. 1. 1. 1. 1. 0. 0. 0.]\n",
      " [0. 0. 1. 1. 1. 1. 0. 0. 0.]\n",
      " [0. 0. 0. 0. 0. 0. 0. 0. 0.]]\n"
     ]
    },
    {
     "data": {
      "image/png": "[encoded data removed]",
      "text/plain": [
       "<Figure size 288x216 with 2 Axes>"
      ]
     },
     "metadata": {
      "needs_background": "light"
     },
     "output_type": "display_data"
    }
   ],
   "source": [
    "# specific area\n",
    "Z = np.zeros((5, 9))\n",
    "Z[2:4,2:6] = 1            # for each dimension format is always: <from:to:step> (with step being optional)\n",
    "show_matrix(Z)"
   ]
  },
  {
   "cell_type": "code",
   "execution_count": 124,
   "metadata": {},
   "outputs": [
    {
     "name": "stdout",
     "output_type": "stream",
     "text": [
      "[[1. 0. 1. 0. 1. 0. 1. 0. 1.]\n",
      " [1. 0. 1. 0. 1. 0. 1. 0. 1.]\n",
      " [1. 0. 1. 0. 1. 0. 1. 0. 1.]\n",
      " [1. 0. 1. 0. 1. 0. 1. 0. 1.]\n",
      " [1. 0. 1. 0. 1. 0. 1. 0. 1.]]"
     ]
    },
    {
     "name": "stdout",
     "output_type": "stream",
     "text": [
      "\n"
     ]
    },
    {
     "data": {
      "image/png": "[encoded data removed]",
      "text/plain": [
       "<Figure size 288x216 with 2 Axes>"
      ]
     },
     "metadata": {
      "needs_background": "light"
     },
     "output_type": "display_data"
    }
   ],
   "source": [
    "# every second column\n",
    "Z = np.zeros((5, 9))\n",
    "Z[:,::2] = 1              # for each dimension format is always: <from:to:step> (with step being optional)\n",
    "show_matrix(Z)"
   ]
  },
  {
   "cell_type": "code",
   "execution_count": 125,
   "metadata": {},
   "outputs": [
    {
     "name": "stdout",
     "output_type": "stream",
     "text": [
      "[0 1 2 3 4 5 6 7 8 9]\n",
      ">>> Z[-1]:   9\n",
      ">>> Z[3:-3]: [3 4 5 6]\n",
      ">>> Z[::-1]: [9 8 7 6 5 4 3 2 1 0]\n"
     ]
    },
    {
     "data": {
      "image/png": "[encoded data removed]",
      "text/plain": [
       "<Figure size 288x216 with 2 Axes>"
      ]
     },
     "metadata": {
      "needs_background": "light"
     },
     "output_type": "display_data"
    }
   ],
   "source": [
    "# indices can be negative\n",
    "Z = np.arange(10)\n",
    "show_matrix(Z)\n",
    "print(\">>> Z[-1]:  \", Z[-1])       # start indexing at the back\n",
    "print(\">>> Z[3:-3]:\", Z[3:-3])     # slice of array center\n",
    "print(\">>> Z[::-1]:\", Z[::-1])     # quickly reverse an array"
   ]
  },
  {
   "cell_type": "markdown",
   "metadata": {},
   "source": [
    "(*see:* [Numpy array slicing](https://docs.scipy.org/doc/numpy/reference/arrays.indexing.html))"
   ]
  },
  {
   "cell_type": "markdown",
   "metadata": {},
   "source": [
    "# Multiplication of arrays"
   ]
  },
  {
   "cell_type": "markdown",
   "metadata": {},
   "source": [
    "Numpy offers many ways to multiply arrays. If we use python's `*` operator, this performs elementwise multiplication. In the case of 1D arrays of equal size, this can be used as an initial step in calculating the Euclidean inner product:"
   ]
  },
  {
   "cell_type": "code",
   "execution_count": 126,
   "metadata": {},
   "outputs": [
    {
     "name": "stdout",
     "output_type": "stream",
     "text": [
      "[10 14 56]\n",
      "80\n"
     ]
    }
   ],
   "source": [
    "x=np.array([2,7,8])\n",
    "y=np.array([5,2,7])\n",
    "star=x*y\n",
    "print(star)\n",
    "inner=np.sum(star)\n",
    "print(inner)"
   ]
  },
  {
   "cell_type": "markdown",
   "metadata": {},
   "source": [
    "However, if we wanted to work out this inner product, Numpy also offers `np.inner()` which is more compact:"
   ]
  },
  {
   "cell_type": "code",
   "execution_count": 127,
   "metadata": {},
   "outputs": [
    {
     "data": {
      "text/plain": [
       "80"
      ]
     },
     "execution_count": 127,
     "metadata": {},
     "output_type": "execute_result"
    }
   ],
   "source": [
    "np.inner(x,y)"
   ]
  },
  {
   "cell_type": "markdown",
   "metadata": {},
   "source": [
    "For 2D arrays, elementwise multiplication not a common operation. Instead, we are often interested in performing matrix multiplication. Numpy offers different ways to do this. One option is to use `np.dot()`, although due to it's name being related to another operation in linear algebra, we instead recommond `np.matmul()`:"
   ]
  },
  {
   "cell_type": "code",
   "execution_count": 128,
   "metadata": {},
   "outputs": [
    {
     "data": {
      "text/plain": [
       "array([[ 7,  5],\n",
       "       [10,  8]])"
      ]
     },
     "execution_count": 128,
     "metadata": {},
     "output_type": "execute_result"
    }
   ],
   "source": [
    "x=np.array([[1,3],\n",
    "           [2,4]])\n",
    "y=np.array([[1,2],\n",
    "           [2,1]])\n",
    "np.matmul(x,y)"
   ]
  },
  {
   "cell_type": "markdown",
   "metadata": {},
   "source": [
    "`np.matmul()` also has the possibility to use the symbol `@` as a shorthand. It should be noted that the use of this symbol is not fully pythonic ([see here](https://blog.finxter.com/numpy-matmul-operator/)). However, it can make chains of matrix multiplication very compact, and therefore can such computations very readable and transparent. For example:"
   ]
  },
  {
   "cell_type": "code",
   "execution_count": 129,
   "metadata": {},
   "outputs": [
    {
     "data": {
      "text/plain": [
       "array([[ 783, 1875],\n",
       "       [1170, 2802]])"
      ]
     },
     "execution_count": 129,
     "metadata": {},
     "output_type": "execute_result"
    }
   ],
   "source": [
    "x@y@y@x@y@x #long chain of matrices multiplied together"
   ]
  },
  {
   "cell_type": "markdown",
   "metadata": {},
   "source": [
    "For arrays with more than two dimensions, `np.matmul()` and `np.dot()` provide [different outputs](https://www.delftstack.com/howto/numpy/numpy-dot-vs-matmul/)"
   ]
  },
  {
   "cell_type": "markdown",
   "metadata": {},
   "source": [
    "## Broadcasting\n",
    "\n",
    "Arithmetic operations applied to two Numpy arrays of different dimensions leads to 'broadcasting', i.e., making the shapes compatible to allow the operation if possible (*see:* [Numpy broadcasting](https://docs.scipy.org/doc/numpy/user/basics.broadcasting.html) for more details). This includes:"
   ]
  },
  {
   "cell_type": "markdown",
   "metadata": {},
   "source": [
    "* Adding/subtracting/etc. a single value to a matrix."
   ]
  },
  {
   "cell_type": "code",
   "execution_count": 130,
   "metadata": {},
   "outputs": [
    {
     "name": "stdout",
     "output_type": "stream",
     "text": [
      "[ 3  4  5  6  7  8  9 10 11]\n"
     ]
    }
   ],
   "source": [
    "x = np.arange(1,10,1)\n",
    "x += 2\n",
    "print(x)"
   ]
  },
  {
   "cell_type": "markdown",
   "metadata": {},
   "source": [
    "* Adding/subtracting/etc. a column/row vector to a matrix."
   ]
  },
  {
   "cell_type": "code",
   "execution_count": 131,
   "metadata": {},
   "outputs": [
    {
     "name": "stdout",
     "output_type": "stream",
     "text": [
      "[[ 0  1  2]\n",
      " [ 3  4  5]\n",
      " [ 6  7  8]\n",
      " [ 9 10 11]]\n",
      "[10 11 12]\n",
      "[[10 12 14]\n",
      " [13 15 17]\n",
      " [16 18 20]\n",
      " [19 21 23]]\n"
     ]
    }
   ],
   "source": [
    "x = np.arange(4*3).reshape(4,3)\n",
    "y = np.arange(10,13,1)\n",
    "print(x)\n",
    "print(y)\n",
    "print(x+y)"
   ]
  },
  {
   "cell_type": "markdown",
   "metadata": {},
   "source": [
    "* Adding/subtracting/etc. a column and a row vector."
   ]
  },
  {
   "cell_type": "code",
   "execution_count": 132,
   "metadata": {},
   "outputs": [
    {
     "name": "stdout",
     "output_type": "stream",
     "text": [
      "[[ 0  2  4  6  8 10 12 14]]\n"
     ]
    }
   ],
   "source": [
    "x = np.arange(8)\n",
    "y = x.reshape(1,8)\n",
    "#show_matrix(x)\n",
    "#show_matrix(y)\n",
    "\n",
    "print(x+y)"
   ]
  },
  {
   "cell_type": "markdown",
   "metadata": {},
   "source": [
    "* Elementwise multiplication of arrays with different shapes or dimensionalities. When operating on two arrays, NumPy compares their shapes element-wise. It starts with the trailing (i.e. rightmost) dimensions and works its way left. Two dimensions are compatible when: i) they are equal, or ii) one of them is 1. If these conditions are not met, a ValueError: operands could not be broadcast together exception is thrown, indicating that the arrays have incompatible shapes. The size of the resulting array is the size that is not 1 along each axis of the inputs."
   ]
  },
  {
   "cell_type": "code",
   "execution_count": 133,
   "metadata": {},
   "outputs": [
    {
     "name": "stdout",
     "output_type": "stream",
     "text": [
      "arr1 is  [[3 8 9 3 4]\n",
      " [9 7 9 7 9]\n",
      " [5 3 9 1 7]\n",
      " [7 1 8 5 8]]\n",
      "arr2 is  [[2 1 9 9 9]]\n",
      "product is  [[ 6  8 81 27 36]\n",
      " [18  7 81 63 81]\n",
      " [10  3 81  9 63]\n",
      " [14  1 72 45 72]]\n"
     ]
    }
   ],
   "source": [
    "#One dimension matching and one dimension in second array with size 1 -> okay\n",
    "arr1=np.random.randint(1,10, size=(4,5))\n",
    "arr2=np.random.randint(1,10, size=(1,5))\n",
    "print(\"arr1 is \", arr1)\n",
    "print(\"arr2 is \", arr2)\n",
    "\n",
    "print(\"product is \", arr1*arr2)"
   ]
  },
  {
   "cell_type": "code",
   "execution_count": 134,
   "metadata": {},
   "outputs": [
    {
     "name": "stdout",
     "output_type": "stream",
     "text": [
      "[[35 10 35 40 45]\n",
      " [10 20 15 45 35]\n",
      " [40  5  5 25 15]\n",
      " [25 30  5 30 25]]\n"
     ]
    }
   ],
   "source": [
    "#Both dimensions in second array with size 1 -> okay\n",
    "arr1=np.random.randint(1,10, size=(4,5))\n",
    "arr2=np.array([[5]])\n",
    "print(arr1*arr2)"
   ]
  },
  {
   "cell_type": "code",
   "execution_count": 135,
   "metadata": {},
   "outputs": [
    {
     "name": "stdout",
     "output_type": "stream",
     "text": [
      "(3, 5, 4, 2, 6, 3)\n"
     ]
    }
   ],
   "source": [
    "# TO UNDERSTAND\n",
    "#First array has more dimensions than second but trailing dimensions obey both rules\n",
    "arr1=np.random.randint(1,100, size=(3,5,4,2,6,3))\n",
    "arr2=np.random.randint(1,100, size=(4,1,6,1))\n",
    "y=arr1*arr2\n",
    "print(y.shape)"
   ]
  },
  {
   "cell_type": "code",
   "execution_count": 136,
   "metadata": {},
   "outputs": [
    {
     "ename": "ValueError",
     "evalue": "operands could not be broadcast together with shapes (4,3) (4,5) ",
     "output_type": "error",
     "traceback": [
      "\u001b[1;31m---------------------------------------------------------------------------\u001b[0m",
      "\u001b[1;31mValueError\u001b[0m                                Traceback (most recent call last)",
      "\u001b[1;32md:\\Git\\Repositories\\Vertiefungspraktika\\2 Numpy Introduction.ipynb Cell 54\u001b[0m line \u001b[0;36m<cell line: 4>\u001b[1;34m()\u001b[0m\n\u001b[0;32m      <a href='vscode-notebook-cell:/d%3A/Git/Repositories/Vertiefungspraktika/2%20Numpy%20Introduction.ipynb#Y104sZmlsZQ%3D%3D?line=1'>2</a>\u001b[0m arr1\u001b[39m=\u001b[39mnp\u001b[39m.\u001b[39mrandom\u001b[39m.\u001b[39mrandint(\u001b[39m1\u001b[39m,\u001b[39m20\u001b[39m, size\u001b[39m=\u001b[39m(\u001b[39m4\u001b[39m,\u001b[39m3\u001b[39m))\n\u001b[0;32m      <a href='vscode-notebook-cell:/d%3A/Git/Repositories/Vertiefungspraktika/2%20Numpy%20Introduction.ipynb#Y104sZmlsZQ%3D%3D?line=2'>3</a>\u001b[0m arr2\u001b[39m=\u001b[39mnp\u001b[39m.\u001b[39mrandom\u001b[39m.\u001b[39mrandint(\u001b[39m1\u001b[39m,\u001b[39m20\u001b[39m, size\u001b[39m=\u001b[39m(\u001b[39m4\u001b[39m,\u001b[39m5\u001b[39m))\n\u001b[1;32m----> <a href='vscode-notebook-cell:/d%3A/Git/Repositories/Vertiefungspraktika/2%20Numpy%20Introduction.ipynb#Y104sZmlsZQ%3D%3D?line=3'>4</a>\u001b[0m \u001b[39mprint\u001b[39m(arr1\u001b[39m*\u001b[39;49marr2)\n",
      "\u001b[1;31mValueError\u001b[0m: operands could not be broadcast together with shapes (4,3) (4,5) "
     ]
    }
   ],
   "source": [
    "#Arrays have an inconsistent dimension\n",
    "arr1=np.random.randint(1,20, size=(4,3))\n",
    "arr2=np.random.randint(1,20, size=(4,5))\n",
    "print(arr1*arr2)"
   ]
  },
  {
   "cell_type": "markdown",
   "metadata": {},
   "source": [
    "# Matrix computations"
   ]
  },
  {
   "cell_type": "markdown",
   "metadata": {},
   "source": [
    "Numpy's [linalg library](https://numpy.org/doc/stable/reference/routines.linalg.html) provides a number of useful matrix and vector operations from linear algebra, which are often useful in many domains of scientific computing. In particular, when dealing with square arrays, one can make use of the eigevalue solver as well as matrix inversion."
   ]
  },
  {
   "cell_type": "code",
   "execution_count": null,
   "metadata": {},
   "outputs": [
    {
     "name": "stdout",
     "output_type": "stream",
     "text": [
      "Eigenvalues:\n",
      " [ 3. -1.]\n",
      "Eigenvectors:\n",
      " [[ 0.70710678 -0.70710678]\n",
      " [ 0.70710678  0.70710678]]\n"
     ]
    }
   ],
   "source": [
    "#Eigenvalues and vectors\n",
    "arr_sym = np.array([[1,2],\n",
    "                  [2,1]]) #symmetric matrix\n",
    "\n",
    "vals, vecs = np.linalg.eig(arr_sym)\n",
    "print(\"Eigenvalues:\\n\", vals) #eigenvalues stored as a 1D array\n",
    "print(\"Eigenvectors:\\n\", vecs) #eigenvectors stored as columns in a 2D array"
   ]
  },
  {
   "cell_type": "code",
   "execution_count": null,
   "metadata": {},
   "outputs": [],
   "source": [
    "#Matrix inversion\n",
    "np.linalg.inv(arr_sym)"
   ]
  },
  {
   "cell_type": "markdown",
   "metadata": {},
   "source": [
    "## Exercises\n",
    "1. Generate a 5x9 matrix of random integers between 0 and 10.\n",
    "2. Select a tile-pattern subset of the matrix like this (the resulting matrix can either has reduced shape based on the subset, or it can keep a shape of 5x9):\n",
    "![Tile pattern](http://i.imgur.com/Cs7N10t.png)\n",
    "3. ..and like this:\n",
    "![Tile pattern](http://i.imgur.com/BnGdHle.png)\n",
    "4. ..and also like this:\n",
    "![Tile pattern](http://i.imgur.com/i3Lw1Zb.png)\n",
    "5. Adapt the code for No.3 so that it works with matrices of arbitrary dimensions (if it does not already).\n",
    "6. Write a function code that perfoms the operation depicted below ([source](https://docs.scipy.org/doc/numpy/user/basics.broadcasting.html)), i.e. for two arrays with shape (a,1) and (b,1) the result should have shape (a,b).\n",
    "![Broadcast op](http://i.imgur.com/M3kL9we.png)\n",
    "\n",
    "7. Make a copy of your matrix from No. 6\n",
    "8. Find an expression that subtracts the mean of all rows from every row of any given matrix, the shorter the better (one-line is possible). Try the code with the copied matrix.\n",
    "9. In the matrix from No. 6: \n",
    "    1. Reverse the order of the rows of the matrix using a single slice.\n",
    "    2. Reverse the order of the columns of the matrix using a single slice.\n",
    "    3. Reverse the order of both the rows and the columns of the matrix using a single slice.\n",
    "    4. Try evaluation a standard Python conditional on your matrix (e.g. $> 5$). Describe the result in one sentence.\n",
    "    5. Find an expression that checks if ANY value is larger than 7 using numpy's \"any\"-function.\n",
    "    6. Find an expression that checks if ALL values are larger than 2 using numpy's \"all\"-function.\n",
    "    7. Use a conditional and boolean/mask indexing to index all even values of your matrix.  \n",
    "    8. Increment even values by 1.\n",
    "10. Use numpy's \"linspace\" function to create a vector of 50 numbers between $-3\\pi$ and $3\\pi$ in evenly spaced increments.\n",
    "    1. Display it with the showMatrix function.\n",
    "    2. Apply a sine function to the vector and display the result, also with the showMatrix function.\n",
    "    3. Apply a square function to the (original) vector and display the result, also with the showMatrix function.\n",
    "    "
   ]
  },
  {
   "cell_type": "code",
   "execution_count": 162,
   "metadata": {},
   "outputs": [
    {
     "name": "stdout",
     "output_type": "stream",
     "text": [
      "[[8 4 5 1 4 5 5 5 2]\n",
      " [2 5 9 9 9 5 6 2 6]\n",
      " [8 1 1 4 1 6 2 2 8]\n",
      " [1 1 1 2 7 6 6 2 5]\n",
      " [2 7 4 6 7 4 4 5 5]]\n"
     ]
    }
   ],
   "source": [
    "# QN 01\n",
    "a = np.random.randint(1, 10, size=(5, 9))\n",
    "print(a)"
   ]
  },
  {
   "cell_type": "code",
   "execution_count": 163,
   "metadata": {},
   "outputs": [
    {
     "name": "stdout",
     "output_type": "stream",
     "text": [
      "[[0. 0. 0. 0. 0. 0. 0. 0. 0.]\n",
      " [0. 5. 0. 9. 0. 5. 0. 2. 0.]\n",
      " [0. 0. 0. 0. 0. 0. 0. 0. 0.]\n",
      " [0. 1. 0. 2. 0. 6. 0. 2. 0.]\n",
      " [0. 0. 0. 0. 0. 0. 0. 0. 0.]]\n"
     ]
    },
    {
     "data": {
      "image/png": "[encoded data removed]",
      "text/plain": [
       "<Figure size 288x216 with 2 Axes>"
      ]
     },
     "metadata": {
      "needs_background": "light"
     },
     "output_type": "display_data"
    }
   ],
   "source": [
    "# QN 02\n",
    "b = np.zeros((5, 9))\n",
    "b[1::2, 1::2] =  a[1::2, 1::2]\n",
    "\n",
    "show_matrix(b)"
   ]
  },
  {
   "cell_type": "code",
   "execution_count": 164,
   "metadata": {},
   "outputs": [
    {
     "name": "stdout",
     "output_type": "stream",
     "text": [
      "[[0. 0. 0. 0. 0. 0. 0. 0. 0.]\n",
      " [0. 5. 0. 9. 0. 0. 0. 0. 0.]\n",
      " [0. 0. 0. 0. 0. 0. 0. 0. 0.]\n",
      " [0. 1. 0. 2. 0. 0. 0. 0. 0.]\n",
      " [0. 0. 0. 0. 0. 0. 0. 0. 0.]]\n"
     ]
    },
    {
     "data": {
      "image/png": "[encoded data removed]",
      "text/plain": [
       "<Figure size 288x216 with 2 Axes>"
      ]
     },
     "metadata": {
      "needs_background": "light"
     },
     "output_type": "display_data"
    }
   ],
   "source": [
    "# QN 03\n",
    "c = np.zeros((5, 9))\n",
    "c[1:4:2, 1:4:2] = a[1:4:2, 1:4:2]\n",
    "\n",
    "show_matrix(c)"
   ]
  },
  {
   "cell_type": "code",
   "execution_count": 165,
   "metadata": {},
   "outputs": [
    {
     "name": "stdout",
     "output_type": "stream",
     "text": [
      "[[8. 0. 0. 0. 0. 0. 0. 0. 0.]\n",
      " [0. 0. 0. 0. 0. 0. 0. 0. 0.]\n",
      " [0. 0. 0. 0. 0. 0. 0. 0. 0.]\n",
      " [0. 0. 0. 0. 0. 0. 0. 0. 0.]\n",
      " [0. 0. 0. 0. 0. 0. 0. 0. 0.]]\n"
     ]
    },
    {
     "data": {
      "image/png": "[encoded data removed]",
      "text/plain": [
       "<Figure size 288x216 with 2 Axes>"
      ]
     },
     "metadata": {
      "needs_background": "light"
     },
     "output_type": "display_data"
    }
   ],
   "source": [
    "# QN 04\n",
    "d = np.zeros((5, 9))\n",
    "d[0::4, 0::8]= a[0::4, 0::8]\n",
    "\n",
    "show_matrix(d)"
   ]
  },
  {
   "cell_type": "code",
   "execution_count": null,
   "metadata": {},
   "outputs": [],
   "source": [
    "# QN 09"
   ]
  },
  {
   "cell_type": "code",
   "execution_count": null,
   "metadata": {},
   "outputs": [
    {
     "name": "stdout",
     "output_type": "stream",
     "text": [
      "[-9.42477796 -9.04009315 -8.65540833 -8.27072352 -7.8860387  -7.50135389\n",
      " -7.11666907 -6.73198426 -6.34729944 -5.96261463 -5.57792981 -5.193245\n",
      " -4.80856018 -4.42387537 -4.03919055 -3.65450574 -3.26982093 -2.88513611\n",
      " -2.5004513  -2.11576648 -1.73108167 -1.34639685 -0.96171204 -0.57702722\n",
      " -0.19234241  0.19234241  0.57702722  0.96171204  1.34639685  1.73108167\n",
      "  2.11576648  2.5004513   2.88513611  3.26982093  3.65450574  4.03919055\n",
      "  4.42387537  4.80856018  5.193245    5.57792981  5.96261463  6.34729944\n",
      "  6.73198426  7.11666907  7.50135389  7.8860387   8.27072352  8.65540833\n",
      "  9.04009315  9.42477796]\n",
      "[-3.67394040e-16 -3.75267005e-01 -6.95682551e-01 -9.14412623e-01\n",
      " -9.99486216e-01 -9.38468422e-01 -7.40277997e-01 -4.33883739e-01\n",
      " -6.40702200e-02  3.15108218e-01  6.48228395e-01  8.86599306e-01\n",
      "  9.95379113e-01  9.58667853e-01  7.81831482e-01  4.90717552e-01\n",
      "  1.27877162e-01 -2.53654584e-01 -5.98110530e-01 -8.55142763e-01\n",
      " -9.87181783e-01 -9.74927912e-01 -8.20172255e-01 -5.45534901e-01\n",
      " -1.91158629e-01  1.91158629e-01  5.45534901e-01  8.20172255e-01\n",
      "  9.74927912e-01  9.87181783e-01  8.55142763e-01  5.98110530e-01\n",
      "  2.53654584e-01 -1.27877162e-01 -4.90717552e-01 -7.81831482e-01\n",
      " -9.58667853e-01 -9.95379113e-01 -8.86599306e-01 -6.48228395e-01\n",
      " -3.15108218e-01  6.40702200e-02  4.33883739e-01  7.40277997e-01\n",
      "  9.38468422e-01  9.99486216e-01  9.14412623e-01  6.95682551e-01\n",
      "  3.75267005e-01  3.67394040e-16]\n",
      "[8.88264396e+01 8.17232841e+01 7.49160934e+01 6.84048675e+01\n",
      " 6.21896064e+01 5.62703101e+01 5.06469787e+01 4.53196120e+01\n",
      " 4.02882102e+01 3.55527732e+01 3.11133010e+01 2.69697936e+01\n",
      " 2.31222510e+01 1.95706733e+01 1.63150603e+01 1.33554122e+01\n",
      " 1.06917289e+01 8.32401038e+00 6.25225668e+00 4.47646780e+00\n",
      " 2.99664374e+00 1.81278448e+00 9.24890042e-01 3.32960415e-01\n",
      " 3.69956017e-02 3.69956017e-02 3.32960415e-01 9.24890042e-01\n",
      " 1.81278448e+00 2.99664374e+00 4.47646780e+00 6.25225668e+00\n",
      " 8.32401038e+00 1.06917289e+01 1.33554122e+01 1.63150603e+01\n",
      " 1.95706733e+01 2.31222510e+01 2.69697936e+01 3.11133010e+01\n",
      " 3.55527732e+01 4.02882102e+01 4.53196120e+01 5.06469787e+01\n",
      " 5.62703101e+01 6.21896064e+01 6.84048675e+01 7.49160934e+01\n",
      " 8.17232841e+01 8.88264396e+01]\n"
     ]
    },
    {
     "data": {
      "image/png": "[encoded data removed]",
      "text/plain": [
       "<Figure size 288x216 with 2 Axes>"
      ]
     },
     "metadata": {
      "needs_background": "light"
     },
     "output_type": "display_data"
    },
    {
     "data": {
      "image/png": "[encoded data removed]",
      "text/plain": [
       "<Figure size 288x216 with 2 Axes>"
      ]
     },
     "metadata": {
      "needs_background": "light"
     },
     "output_type": "display_data"
    },
    {
     "data": {
      "image/png": "[encoded data removed]",
      "text/plain": [
       "<Figure size 288x216 with 2 Axes>"
      ]
     },
     "metadata": {
      "needs_background": "light"
     },
     "output_type": "display_data"
    }
   ],
   "source": [
    "# QN 10\n",
    "\n",
    "y = np.linspace((-3 *np.pi), (3 *np.pi), num=50)\n",
    "\n",
    "# 1\n",
    "show_matrix(y)\n",
    "\n",
    "#2\n",
    "show_matrix(np.sin(y))\n",
    "\n",
    "#3\n",
    "show_matrix(np.square(y))"
   ]
  }
 ],
 "metadata": {
  "kernelspec": {
   "display_name": "Python 3 (ipykernel)",
   "language": "python",
   "name": "python3"
  },
  "language_info": {
   "codemirror_mode": {
    "name": "ipython",
    "version": 3
   },
   "file_extension": ".py",
   "mimetype": "text/x-python",
   "name": "python",
   "nbconvert_exporter": "python",
   "pygments_lexer": "ipython3",
   "version": "3.9.12"
  },
  "vscode": {
   "interpreter": {
    "hash": "e39fb30f224a72363915e5ef5890e898bd3af12515c66274d9db63e77a6a0337"
   }
  }
 },
 "nbformat": 4,
 "nbformat_minor": 1
}
