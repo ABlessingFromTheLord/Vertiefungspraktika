{
 "cells": [
  {
   "cell_type": "markdown",
   "metadata": {},
   "source": [
    "# Numpy \n",
    "\n",
    "Fundamental building block of scientific Python.\n",
    "* Powerful and highly flexible [array class](https://numpy.org/doc/stable/reference/generated/numpy.array.html); your new ubiquitous working unit.\n",
    "* We will often refer to these objects as $\\textit{matrices}$, although this should not be confused with Numpy's less used [matrix class](https://numpy.org/doc/stable/reference/generated/numpy.matrix.html)\n",
    "* Set of most common mathematical utilities (constants, random numbers, linear algebra functions).\n",
    "\n",
    "When doing multiple identical mathematical or boolean operations you should prefer numpy `array` objects over build-in python datatypes. Numpy performs operations in an optimized manner. You can get rid of many `while` and `for` loops and obtain fast, scalable and readable code by using `array` objects and the functions provided by `numpy` and `scipy`."
   ]
  },
  {
   "cell_type": "markdown",
   "metadata": {},
   "source": [
    "## Import"
   ]
  },
  {
   "cell_type": "code",
   "execution_count": 1,
   "metadata": {},
   "outputs": [],
   "source": [
    "# imports\n",
    "import numpy as np                 # It will be used a lot, so the shorthand is helpful.\n",
    "import matplotlib.pyplot as plt    # Same here.\n",
    "\n",
    "# ipython magic function to show the plots inline in the notebook\n",
    "%matplotlib inline"
   ]
  },
  {
   "cell_type": "markdown",
   "metadata": {},
   "source": [
    "## Numpy array basics\n",
    "\n",
    "A numpy array is a collections of values all of the same type. A numpy array **cannot** change their size once they are created, but they **can** change their shape, i.e., an array will always hold the same number of elements, but their organization into rows and columns may change as desired.\n",
    "* **ndarray.ndim:** The number of axes/dimensions of an array. The default matrix used for math problems is of dimensionality 2.\n",
    "* **ndarray.shape:** A tuple of integers indicating the size of an array in each dimension. For a matrix with n rows and m columns, shape will be (n,m). The length of the shape tuple is therefore the rank, or number of dimensions, ndim. \n",
    "* **ndarray.size:** The total number of elements of the array. This is equal to the product of the elements of shape. \n",
    "* **ndarray.dtype:** The data type of the array elements. Defaults to the type of the elements in the array can be set when the array is created.\n",
    "\n",
    "(*see:* [Numpy basics](https://docs.scipy.org/doc/numpy/user/quickstart.html) )"
   ]
  },
  {
   "cell_type": "code",
   "execution_count": null,
   "metadata": {},
   "outputs": [],
   "source": [
    "m = np.array([[1,2,3],\n",
    "              [4,5,6],\n",
    "              [7,8,9]], dtype=np.int32) # np.float32, np.float64, np.complex64, np.complex128\n",
    "print(m)\n",
    "print(m.dtype)\n",
    "print(m.shape)"
   ]
  },
  {
   "cell_type": "markdown",
   "metadata": {},
   "source": [
    "### Under the hood\n",
    "Numpy arrays believe in sharing is caring and will share their data with other arrays. Slicing does NOT return a new array, but instead a *view* on the data of the same array (except when the slice returns a scalar):"
   ]
  },
  {
   "cell_type": "code",
   "execution_count": null,
   "metadata": {},
   "outputs": [],
   "source": [
    "s = m[1]\n",
    "print('BEFORE')\n",
    "print(s, 'slice', '\\n')\n",
    "print(m, '\\n')\n",
    "s[0] = 0\n",
    "print('AFTER')\n",
    "print(s, 'slice' '\\n')\n",
    "print(m, '\\n')"
   ]
  },
  {
   "cell_type": "markdown",
   "metadata": {},
   "source": [
    "You can check whether an array actually owns its data by looking at its flags:"
   ]
  },
  {
   "cell_type": "code",
   "execution_count": null,
   "metadata": {},
   "outputs": [],
   "source": [
    "print(m.flags)\n",
    "print(s.flags)"
   ]
  },
  {
   "cell_type": "markdown",
   "metadata": {},
   "source": [
    "## Array creation"
   ]
  },
  {
   "cell_type": "code",
   "execution_count": null,
   "metadata": {},
   "outputs": [],
   "source": [
    "# helper function for examples below; plots the graphical depiction of a given numpy array\n",
    "def show_matrix(X):\n",
    "    Y = np.array(np.array(X, ndmin=2))  # 1D -> 2D\n",
    "    vmin = min(np.min(Y), 0)\n",
    "    vmax = max(np.max(Y), 1)\n",
    "    fig, ax = plt.subplots(figsize=(4, 3))\n",
    "    img = ax.imshow(Y, interpolation='none', vmin=vmin, vmax=vmax)\n",
    "    fig.colorbar(img)\n",
    "    print(X)"
   ]
  },
  {
   "cell_type": "code",
   "execution_count": null,
   "metadata": {},
   "outputs": [],
   "source": [
    "Z = np.zeros(9)\n",
    "show_matrix(Z)"
   ]
  },
  {
   "cell_type": "code",
   "execution_count": null,
   "metadata": {},
   "outputs": [],
   "source": [
    "Z = np.zeros((5,9))\n",
    "show_matrix(Z)"
   ]
  },
  {
   "cell_type": "code",
   "execution_count": null,
   "metadata": {
    "scrolled": true
   },
   "outputs": [],
   "source": [
    "Z = np.ones(9)\n",
    "show_matrix(Z)"
   ]
  },
  {
   "cell_type": "code",
   "execution_count": null,
   "metadata": {},
   "outputs": [],
   "source": [
    "Z = np.ones((5,9))\n",
    "show_matrix(Z)"
   ]
  },
  {
   "cell_type": "code",
   "execution_count": null,
   "metadata": {},
   "outputs": [],
   "source": [
    "Z = np.array( [0,0,0,0,0,0,0,0,0] )\n",
    "show_matrix(Z)"
   ]
  },
  {
   "cell_type": "code",
   "execution_count": null,
   "metadata": {},
   "outputs": [],
   "source": [
    "Z = np.array( [[0,0,0,0,0,0,0,0,0],\n",
    "               [0,0,0,0,0,0,0,0,0],\n",
    "               [0,0,0,0,0,0,0,0,0],\n",
    "               [0,0,0,0,0,0,0,0,0],\n",
    "               [0,0,0,0,0,0,0,0,0]] )\n",
    "show_matrix(Z)"
   ]
  },
  {
   "cell_type": "code",
   "execution_count": null,
   "metadata": {},
   "outputs": [],
   "source": [
    "Z = np.arange(9)    # the numpy arange function also allows floating point arguments\n",
    "show_matrix(Z)"
   ]
  },
  {
   "cell_type": "markdown",
   "metadata": {},
   "source": [
    "(*see also:* [linspace](https://docs.scipy.org/doc/numpy/reference/generated/numpy.linspace.html))"
   ]
  },
  {
   "cell_type": "code",
   "execution_count": null,
   "metadata": {},
   "outputs": [],
   "source": [
    "Z = np.arange(5*9).reshape(5,9)\n",
    "show_matrix(Z)"
   ]
  },
  {
   "cell_type": "markdown",
   "metadata": {},
   "source": [
    "- Reshape must not change the total number of elements in the array.\n",
    "- A vector of length ***n*** and a matrix of dimensions (1,***n***) ARE NOT THE SAME THING!"
   ]
  },
  {
   "cell_type": "code",
   "execution_count": null,
   "metadata": {},
   "outputs": [],
   "source": [
    "Z = np.random.uniform(0,1,9)  # args: min, max, no. of elements\n",
    "show_matrix(Z)"
   ]
  },
  {
   "cell_type": "code",
   "execution_count": null,
   "metadata": {},
   "outputs": [],
   "source": [
    "Z = np.random.uniform(0, 1, (5, 9))\n",
    "show_matrix(Z)"
   ]
  },
  {
   "cell_type": "markdown",
   "metadata": {},
   "source": [
    "(*see:* [Numpy array creation](https://docs.scipy.org/doc/numpy/user/basics.creation.html) & [Numpy array reshaping](https://docs.scipy.org/doc/numpy/reference/generated/numpy.reshape.html))"
   ]
  },
  {
   "cell_type": "markdown",
   "metadata": {},
   "source": [
    "## Array indexing"
   ]
  },
  {
   "cell_type": "code",
   "execution_count": null,
   "metadata": {},
   "outputs": [],
   "source": [
    "# single element\n",
    "Z = np.zeros((5, 9))\n",
    "Z[1,1] = 1\n",
    "show_matrix(Z)"
   ]
  },
  {
   "cell_type": "code",
   "execution_count": null,
   "metadata": {},
   "outputs": [],
   "source": [
    "# single row\n",
    "Z = np.zeros((5, 9))\n",
    "Z[1,:] = 1\n",
    "show_matrix(Z)"
   ]
  },
  {
   "cell_type": "code",
   "execution_count": null,
   "metadata": {},
   "outputs": [],
   "source": [
    "# single column\n",
    "Z = np.zeros((5, 9))\n",
    "Z[:,1] = 1\n",
    "show_matrix(Z)"
   ]
  },
  {
   "cell_type": "code",
   "execution_count": null,
   "metadata": {},
   "outputs": [],
   "source": [
    "# specific area\n",
    "Z = np.zeros((5, 9))\n",
    "Z[2:4,2:6] = 1            # for each dimension format is always: <from:to:step> (with step being optional)\n",
    "show_matrix(Z)"
   ]
  },
  {
   "cell_type": "code",
   "execution_count": null,
   "metadata": {},
   "outputs": [],
   "source": [
    "# every second column\n",
    "Z = np.zeros((5, 9))\n",
    "Z[:,::2] = 1              # for each dimension format is always: <from:to:step> (with step being optional)\n",
    "show_matrix(Z)"
   ]
  },
  {
   "cell_type": "code",
   "execution_count": null,
   "metadata": {},
   "outputs": [],
   "source": [
    "# indices can be negative\n",
    "Z = np.arange(10)\n",
    "print(\">>> Z[-1]:  \", Z[-1])       # start indexing at the back\n",
    "print(\">>> Z[3:-3]:\", Z[3:-3])     # slice of array center\n",
    "print(\">>> Z[::-1]:\", Z[::-1])     # quickly reverse an array"
   ]
  },
  {
   "cell_type": "markdown",
   "metadata": {},
   "source": [
    "(*see:* [Numpy array slicing](https://docs.scipy.org/doc/numpy/reference/arrays.indexing.html))"
   ]
  },
  {
   "cell_type": "markdown",
   "metadata": {},
   "source": [
    "# Multiplication of arrays"
   ]
  },
  {
   "cell_type": "markdown",
   "metadata": {},
   "source": [
    "Numpy offers many ways to multiply arrays. If we use python's `*` operator, this performs elementwise multiplication. In the case of 1D arrays of equal size, this can be used as an initial step in calculating the Euclidean inner product:"
   ]
  },
  {
   "cell_type": "code",
   "execution_count": null,
   "metadata": {},
   "outputs": [],
   "source": [
    "x=np.array([2,7,8])\n",
    "y=np.array([5,2,7])\n",
    "star=x*y\n",
    "print(star)\n",
    "inner=np.sum(star)\n",
    "print(inner)"
   ]
  },
  {
   "cell_type": "markdown",
   "metadata": {},
   "source": [
    "However, if we wanted to work out this inner product, Numpy also offers `np.inner()` which is more compact:"
   ]
  },
  {
   "cell_type": "code",
   "execution_count": null,
   "metadata": {},
   "outputs": [],
   "source": [
    "np.inner(x,y)"
   ]
  },
  {
   "cell_type": "markdown",
   "metadata": {},
   "source": [
    "For 2D arrays, elementwise multiplication not a common operation. Instead, we are often interested in performing matrix multiplication. Numpy offers different ways to do this. One option is to use `np.dot()`, although due to it's name being related to another operation in linear algebra, we instead recommond `np.matmul()`:"
   ]
  },
  {
   "cell_type": "code",
   "execution_count": null,
   "metadata": {},
   "outputs": [],
   "source": [
    "x=np.array([[1,3],\n",
    "           [2,4]])\n",
    "y=np.array([[1,2],\n",
    "           [2,1]])\n",
    "np.matmul(x,y)"
   ]
  },
  {
   "cell_type": "markdown",
   "metadata": {},
   "source": [
    "`np.matmul()` also has the possibility to use the symbol `@` as a shorthand. It should be noted that the use of this symbol is not fully pythonic ([see here](https://blog.finxter.com/numpy-matmul-operator/)). However, it can make chains of matrix multiplication very compact, and therefore can such computations very readable and transparent. For example:"
   ]
  },
  {
   "cell_type": "code",
   "execution_count": null,
   "metadata": {},
   "outputs": [],
   "source": [
    "x@y@y@x@y@x #long chain of matrices multiplied together"
   ]
  },
  {
   "cell_type": "markdown",
   "metadata": {},
   "source": [
    "For arrays with more than two dimensions, `np.matmul()` and `np.dot()` provide [different outputs](https://www.delftstack.com/howto/numpy/numpy-dot-vs-matmul/)"
   ]
  },
  {
   "cell_type": "markdown",
   "metadata": {},
   "source": [
    "## Broadcasting\n",
    "\n",
    "Arithmetic operations applied to two Numpy arrays of different dimensions leads to 'broadcasting', i.e., making the shapes compatible to allow the operation if possible (*see:* [Numpy broadcasting](https://docs.scipy.org/doc/numpy/user/basics.broadcasting.html) for more details). This includes:"
   ]
  },
  {
   "cell_type": "markdown",
   "metadata": {},
   "source": [
    "* Adding/subtracting/etc. a single value to a matrix."
   ]
  },
  {
   "cell_type": "code",
   "execution_count": 22,
   "metadata": {},
   "outputs": [
    {
     "name": "stdout",
     "output_type": "stream",
     "text": [
      "[ 3  4  5  6  7  8  9 10 11]\n"
     ]
    }
   ],
   "source": [
    "x = np.arange(1,10,1)\n",
    "x += 2\n",
    "print(x)"
   ]
  },
  {
   "cell_type": "markdown",
   "metadata": {},
   "source": [
    "* Adding/subtracting/etc. a column/row vector to a matrix."
   ]
  },
  {
   "cell_type": "code",
   "execution_count": 23,
   "metadata": {},
   "outputs": [
    {
     "name": "stdout",
     "output_type": "stream",
     "text": [
      "[[ 0  1  2]\n",
      " [ 3  4  5]\n",
      " [ 6  7  8]\n",
      " [ 9 10 11]]\n",
      "[10 11 12]\n",
      "[[10 12 14]\n",
      " [13 15 17]\n",
      " [16 18 20]\n",
      " [19 21 23]]\n"
     ]
    }
   ],
   "source": [
    "x = np.arange(4*3).reshape(4,3)\n",
    "y = np.arange(10,13,1)\n",
    "print(x)\n",
    "print(y)\n",
    "print(x+y)"
   ]
  },
  {
   "cell_type": "markdown",
   "metadata": {},
   "source": [
    "* Adding/subtracting/etc. a column and a row vector."
   ]
  },
  {
   "cell_type": "code",
   "execution_count": 24,
   "metadata": {},
   "outputs": [
    {
     "name": "stdout",
     "output_type": "stream",
     "text": [
      "[[ 0  2  4  6  8 10 12 14]]\n"
     ]
    }
   ],
   "source": [
    "x = np.arange(8)\n",
    "y = x.reshape(1,8)\n",
    "print(x+y)"
   ]
  },
  {
   "cell_type": "markdown",
   "metadata": {},
   "source": [
    "* Elementwise multiplication of arrays with different shapes or dimensionalities. When operating on two arrays, NumPy compares their shapes element-wise. It starts with the trailing (i.e. rightmost) dimensions and works its way left. Two dimensions are compatible when: i) they are equal, or ii) one of them is 1. If these conditions are not met, a ValueError: operands could not be broadcast together exception is thrown, indicating that the arrays have incompatible shapes. The size of the resulting array is the size that is not 1 along each axis of the inputs."
   ]
  },
  {
   "cell_type": "code",
   "execution_count": 38,
   "metadata": {},
   "outputs": [
    {
     "name": "stdout",
     "output_type": "stream",
     "text": [
      "[[16  3 42 32 10]\n",
      " [14  3 42 40 14]\n",
      " [ 2 27 36 48 18]\n",
      " [ 2 12 54 72  2]]\n"
     ]
    }
   ],
   "source": [
    "#One dimension matching and one dimension in second array with size 1 -> okay\n",
    "arr1=np.random.randint(1,10, size=(4,5))\n",
    "arr2=np.random.randint(1,10, size=(1,5))\n",
    "print(arr1*arr2)"
   ]
  },
  {
   "cell_type": "code",
   "execution_count": 39,
   "metadata": {},
   "outputs": [
    {
     "name": "stdout",
     "output_type": "stream",
     "text": [
      "[[25 40 15 40 35]\n",
      " [45 40 10 45 15]\n",
      " [45 25 10 45 35]\n",
      " [10 45 25 40 30]]\n"
     ]
    }
   ],
   "source": [
    "#Both dimensions in second array with size 1 -> okay\n",
    "arr1=np.random.randint(1,10, size=(4,5))\n",
    "arr2=np.array([[5]])\n",
    "print(arr1*arr2)"
   ]
  },
  {
   "cell_type": "code",
   "execution_count": 40,
   "metadata": {},
   "outputs": [
    {
     "name": "stdout",
     "output_type": "stream",
     "text": [
      "(3, 5, 4, 2, 6, 3)\n"
     ]
    }
   ],
   "source": [
    "#First array has more dimensions than second but trailing dimensions obey both rules\n",
    "arr1=np.random.randint(1,100, size=(3,5,4,2,6,3))\n",
    "arr2=np.random.randint(1,100, size=(4,1,6,1))\n",
    "y=arr1*arr2\n",
    "print(y.shape)"
   ]
  },
  {
   "cell_type": "code",
   "execution_count": 32,
   "metadata": {},
   "outputs": [
    {
     "ename": "ValueError",
     "evalue": "operands could not be broadcast together with shapes (4,3) (4,5) ",
     "output_type": "error",
     "traceback": [
      "\u001b[1;31m---------------------------------------------------------------------------\u001b[0m",
      "\u001b[1;31mValueError\u001b[0m                                Traceback (most recent call last)",
      "Input \u001b[1;32mIn [32]\u001b[0m, in \u001b[0;36m<cell line: 4>\u001b[1;34m()\u001b[0m\n\u001b[0;32m      2\u001b[0m arr1\u001b[38;5;241m=\u001b[39mnp\u001b[38;5;241m.\u001b[39mrandom\u001b[38;5;241m.\u001b[39mrandint(\u001b[38;5;241m1\u001b[39m,\u001b[38;5;241m20\u001b[39m, size\u001b[38;5;241m=\u001b[39m(\u001b[38;5;241m4\u001b[39m,\u001b[38;5;241m3\u001b[39m))\n\u001b[0;32m      3\u001b[0m arr2\u001b[38;5;241m=\u001b[39mnp\u001b[38;5;241m.\u001b[39mrandom\u001b[38;5;241m.\u001b[39mrandint(\u001b[38;5;241m1\u001b[39m,\u001b[38;5;241m20\u001b[39m, size\u001b[38;5;241m=\u001b[39m(\u001b[38;5;241m4\u001b[39m,\u001b[38;5;241m5\u001b[39m))\n\u001b[1;32m----> 4\u001b[0m \u001b[38;5;28mprint\u001b[39m(\u001b[43marr1\u001b[49m\u001b[38;5;241;43m*\u001b[39;49m\u001b[43marr2\u001b[49m)\n",
      "\u001b[1;31mValueError\u001b[0m: operands could not be broadcast together with shapes (4,3) (4,5) "
     ]
    }
   ],
   "source": [
    "#Arrays have an inconsistent dimension\n",
    "arr1=np.random.randint(1,20, size=(4,3))\n",
    "arr2=np.random.randint(1,20, size=(4,5))\n",
    "print(arr1*arr2)"
   ]
  },
  {
   "cell_type": "markdown",
   "metadata": {},
   "source": [
    "# Matrix computations"
   ]
  },
  {
   "cell_type": "markdown",
   "metadata": {},
   "source": [
    "Numpy's [linalg library](https://numpy.org/doc/stable/reference/routines.linalg.html) provides a number of useful matrix and vector operations from linear algebra, which are often useful in many domains of scientific computing. In particular, when dealing with square arrays, one can make use of the eigevalue solver as well as matrix inversion."
   ]
  },
  {
   "cell_type": "code",
   "execution_count": null,
   "metadata": {},
   "outputs": [],
   "source": [
    "#Eigenvalues and vectors\n",
    "arr_sym = np.array([[1,2],\n",
    "                  [2,1]]) #symmetric matrix\n",
    "\n",
    "vals, vecs = np.linalg.eig(arr_sym)\n",
    "print(\"Eigenvalues:\\n\", vals) #eigenvalues stored as a 1D array\n",
    "print(\"Eigenvectors:\\n\", vecs) #eigenvectors stored as columns in a 2D array"
   ]
  },
  {
   "cell_type": "code",
   "execution_count": null,
   "metadata": {},
   "outputs": [],
   "source": [
    "#Matrix inversion\n",
    "np.linalg.inv(arr_sym)"
   ]
  },
  {
   "cell_type": "markdown",
   "metadata": {},
   "source": [
    "## Exercises\n",
    "1. Generate a 5x9 matrix of random integers between 0 and 10.\n",
    "2. Select a tile-pattern subset of the matrix like this (the resulting matrix can either has reduced shape based on the subset, or it can keep a shape of 5x9):\n",
    "![Tile pattern](http://i.imgur.com/Cs7N10t.png)\n",
    "3. ..and like this:\n",
    "![Tile pattern](http://i.imgur.com/BnGdHle.png)\n",
    "4. ..and also like this:\n",
    "![Tile pattern](http://i.imgur.com/i3Lw1Zb.png)\n",
    "5. Adapt the code for No.3 so that it works with matrices of arbitrary dimensions (if it does not already).\n",
    "6. Write a function code that perfoms the operation depicted below ([source](https://docs.scipy.org/doc/numpy/user/basics.broadcasting.html)), i.e. for two arrays with shape (a,1) and (b,1) the result should have shape (a,b).\n",
    "![Broadcast op](http://i.imgur.com/M3kL9we.png)\n",
    "\n",
    "7. Make a copy of your matrix from No. 6\n",
    "8. Find an expression that subtracts the mean of all rows from every row of any given matrix, the shorter the better (one-line is possible). Try the code with the copied matrix.\n",
    "9. In the matrix from No. 6: \n",
    "    1. Reverse the order of the rows of the matrix using a single slice.\n",
    "    2. Reverse the order of the columns of the matrix using a single slice.\n",
    "    3. Reverse the order of both the rows and the columns of the matrix using a single slice.\n",
    "    4. Try evaluation a standard Python conditional on your matrix (e.g. $> 5$). Describe the result in one sentence.\n",
    "    5. Find an expression that checks if ANY value is larger than 7 using numpy's \"any\"-function.\n",
    "    6. Find an expression that checks if ALL values are larger than 2 using numpy's \"all\"-function.\n",
    "    7. Use a conditional and boolean/mask indexing to index all even values of your matrix.  \n",
    "    8. Increment even values by 1.\n",
    "10. Use numpy's \"linspace\" function to create a vector of 50 numbers between $-3\\pi$ and $3\\pi$ in evenly spaced increments.\n",
    "    1. Display it with the showMatrix function.\n",
    "    2. Apply a sine function to the vector and display the result, also with the showMatrix function.\n",
    "    3. Apply a square function to the (original) vector and display the result, also with the showMatrix function.\n",
    "    "
   ]
  },
  {
   "cell_type": "code",
   "execution_count": null,
   "metadata": {},
   "outputs": [],
   "source": [
    "# Your code"
   ]
  }
 ],
 "metadata": {
  "kernelspec": {
   "display_name": "Python 3 (ipykernel)",
   "language": "python",
   "name": "python3"
  },
  "language_info": {
   "codemirror_mode": {
    "name": "ipython",
    "version": 3
   },
   "file_extension": ".py",
   "mimetype": "text/x-python",
   "name": "python",
   "nbconvert_exporter": "python",
   "pygments_lexer": "ipython3",
   "version": "3.9.12"
  },
  "vscode": {
   "interpreter": {
    "hash": "e39fb30f224a72363915e5ef5890e898bd3af12515c66274d9db63e77a6a0337"
   }
  }
 },
 "nbformat": 4,
 "nbformat_minor": 1
}
