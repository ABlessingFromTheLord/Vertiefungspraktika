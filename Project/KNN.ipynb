{
 "cells": [
  {
   "cell_type": "code",
   "execution_count": 1,
   "id": "9ca065d1",
   "metadata": {},
   "outputs": [],
   "source": [
    "import pandas as pd\n",
    "import numpy as np\n",
    "import matplotlib.pyplot as plt\n",
    "from matplotlib.colors import ListedColormap"
   ]
  },
  {
   "cell_type": "code",
   "execution_count": 2,
   "id": "0af57a85",
   "metadata": {},
   "outputs": [],
   "source": [
    "# Task 01\n",
    "# 1.a: load data frame from file, store into df\n",
    "df = pd.read_csv('KNNAlgorithmDataset.csv')\n",
    "#print(df)\n",
    "\n",
    "#1.c: shuffle the samples\n",
    "df = df.sample(frac=1)\n",
    "# frac = [0,1], incase frac = 0.5, shuffle 50% of the rows\n",
    "#print(df)\n",
    "\n",
    "# convert data frame into array\n",
    "data_array = df.values[:, 1:]  #unselect 1st column / label y\n",
    "\n",
    "# 1.b: set column 'diagnosis' as target variable y / the label\n",
    "y = df[\"diagnosis\"].values\n",
    "#print(y) "
   ]
  },
  {
   "cell_type": "code",
   "execution_count": 3,
   "id": "36f861f2",
   "metadata": {},
   "outputs": [
    {
     "name": "stdout",
     "output_type": "stream",
     "text": [
      "[[ 3.15048662  1.30789352  3.27589644 ...  2.62040265 -0.88291301\n",
      "   1.17227633]\n",
      " [ 0.44951161 -1.24722618  0.41317752 ...  0.34707166 -0.28756974\n",
      "  -0.73347363]\n",
      " [-0.9591988  -1.0052112  -0.97657983 ... -1.22537905 -0.97189094\n",
      "  -0.9008294 ]\n",
      " ...\n",
      " [ 2.11099466  0.7214726   2.06078553 ...  1.62915116 -1.36015829\n",
      "  -0.70909067]\n",
      " [-0.79163042  0.45851402 -0.80275719 ... -0.48460509 -0.116085\n",
      "   0.24239891]\n",
      " [-0.6411029   0.5236719  -0.62357982 ... -0.41273555 -0.96380204\n",
      "   0.86305607]]\n"
     ]
    }
   ],
   "source": [
    "# Task 01: normalizing the data with z-score normalization\n",
    "\n",
    "mean = data_array.mean(axis=0)\n",
    "standard_deviation = data_array.std(axis=0)\n",
    "\n",
    "normalized_data = (data_array - mean) / standard_deviation\n",
    "\n",
    "print(normalized_data)"
   ]
  },
  {
   "cell_type": "code",
   "execution_count": 33,
   "id": "492f8a27",
   "metadata": {
    "scrolled": false
   },
   "outputs": [
    {
     "name": "stdout",
     "output_type": "stream",
     "text": [
      "(398, 30)\n"
     ]
    }
   ],
   "source": [
    "# Task 02: seperate data into training(70%), validation(20%) and test(10%) sets by slicing\n",
    "da_len = len(data_array)   #number of rows / length of data_array\n",
    "\n",
    "training_set = data_array[0:int(da_len * 0.7)]\n",
    "training_label = y[:int(da_len * 0.7)]\n",
    "print(training_set.shape)\n",
    "\n",
    "#print(training_set)\n",
    "validation_set = data_array[int(da_len * 0.7): int(da_len * 0.9)]\n",
    "validation_label = y[int(da_len * 0.7): int(da_len * 0.9)]\n",
    "\n",
    "test_set = data_array[int(da_len* 0.9):]\n",
    "test_label = y[int(da_len* 0.9):]\n",
    "#print(len(training_set) + len(validation_set) + len(test_set) == da_len) # the whole data array included in the 3 sets: True "
   ]
  },
  {
   "cell_type": "code",
   "execution_count": 5,
   "id": "1d530e5f",
   "metadata": {},
   "outputs": [],
   "source": [
    "# 3.c distance algorithms with input of two 1D-Vectors, return distance (real number) of 2 vectors(x1,...,xn)\n",
    "# Manhattan distance\n",
    "def manhattan_distance(vector01, vector02):\n",
    "    # raise error if data points are not of the same length\n",
    "    if (vector01.shape != vector02.shape):\n",
    "        raise ValueError(\"Unequal length of inputed data points\")\n",
    "    # return sum(\\xi_m - xj_m\\)\n",
    "    return np.sum(np.abs(vector01 - vector02))    # np.abs(): absolute value of each elements\n",
    "    # a variante: use np.fabs(v1, v2), return np.sum(np.fabs(vector01 - vector02))\n",
    "\n",
    "# Euclidean distance\n",
    "def euclidean_distance(vector01, vector02):\n",
    "    if (len(vector01) != len(vector02)):\n",
    "        raise ValueError(\"Unequal length of inputed data points\")\n",
    "    # use np library: calculate the norm of the new vector (difference of two old vectors)\n",
    "    return np.linalg.norm(vector01 - vector02)\n",
    "\n",
    "# Chebyshev distance\n",
    "def chebyshev_distance(vector01, vector02):\n",
    "    if (len(vector01) != len(vector02)):\n",
    "        raise ValueError(\"Unequal length of inputed data points\")\n",
    "    # return max(\\xi_01 - xi_02\\)\n",
    "    absolute_array = [np.abs(vector01[i] - vector02[i]) for i in range(len(vector01))]\n",
    "    return max(absolute_array)\n",
    "\n",
    "\n",
    "# test algo with data: \n",
    "#t_p01 = training_set[0]\n",
    "#t_p02 = training_set[1]\n",
    "#t_short01 = [1.1,2,4.43,8]\n",
    "#t_short02 = [3,4.7,6,9.69]\n",
    "\n",
    "#print(manhattan_distance(t_p01, t_p02))    # test (compared with result by online calculator): True\n",
    "#print(euclidean_distance(t_p01, t_p02))    # definition from numpy library\n",
    "#print(chebyshev_distance(t_short01, t_short02))    # test: True"
   ]
  },
  {
   "cell_type": "code",
   "execution_count": 6,
   "id": "e1b0c591",
   "metadata": {},
   "outputs": [],
   "source": [
    "# task 3.2: check if user inputs are valid\n",
    "def check_predictor_input(k, d):\n",
    "    valid_dist_algos = ['manhattan', 'euclidean', 'chebyshev']\n",
    "    # there are k training set rows / neighbours for the new data point\n",
    "    if k > len(training_set):\n",
    "        raise ValueError(f\"Given k too large! Give a number not larger than {len(training_set)}\")\n",
    "    if d.lower() not in valid_dist_algos:\n",
    "        raise ValueError(f\"Given algorithm is not valid, please choose from {valid_dist_algos}!\")\n",
    "        \n",
    "#test: passed\n",
    "#check_predictor_input(100, 'manha')\n",
    "#check_predictor_input(400, 'chebyshev')"
   ]
  },
  {
   "cell_type": "code",
   "execution_count": 7,
   "id": "4fbc2464",
   "metadata": {},
   "outputs": [],
   "source": [
    "# Task 3: implement the kNN algorithm\n",
    "# accroding to 2.2 kNN algo is capsuled in a kNN predictor\n",
    "class kNN_predictor:\n",
    "    #constructor: define attribiutes\n",
    "    def __init__(self, k, distance_func):    #q: if the k and dist-func is given as param in constructor or later in predict func?\n",
    "        check_predictor_input(k, distance_func)\n",
    "        self.trained = False   #default: not trained\n",
    "        self.k = k  # k neighbours\n",
    "        if (distance_func == 'manhattan'):\n",
    "            self.dname = 'Manhattan distance'\n",
    "            self.d = manhattan_distance\n",
    "        elif (distance_func == 'euclidean'):\n",
    "            self.dname = 'Euclidean distance'\n",
    "            self.d = euclidean_distance\n",
    "        elif (distance_func == 'chebyshev'):\n",
    "            self.dname = 'Chebyshev distance'\n",
    "            self.d = chebyshev_distance\n",
    "        else:\n",
    "            raise ValueError(\"Invalid function\")\n",
    "        # X(data set) and Y(classes / target values) will be provided in fit() as parameters\n",
    "        self.X = None\n",
    "        self.Y = None\n",
    "        # for the normalization\n",
    "        self.mean = None\n",
    "        \n",
    "        self.std = None\n",
    "    \n",
    "    def normalize(self, X):\n",
    "        if self.trained == False:\n",
    "            raise(\"Predictor is not trained! Train it first by calling fit()!\")\n",
    "        return (X - self.mean) / self.std\n",
    "    \n",
    "    # functions\n",
    "    def fit(self, training_X, training_Y):\n",
    "        #feed the model with training data\n",
    "        # TODO: normalize X before storing\n",
    "        self.X = training_X\n",
    "        self.Y = training_Y\n",
    "        self.mean = self.X.mean(axis=0)\n",
    "        self.std = self.X.std(axis=0)\n",
    "        self.trained = True   #set trained\n",
    "\n",
    "        self.X = self.normalize(self.X)\n",
    "        \n",
    "\n",
    "    def predict(self, X, thresh=0.5):\n",
    "        # check if predictor is trained\n",
    "        if self.trained == False:\n",
    "            raise(\"Predictor is not trained! Train it first by calling fit()!\")\n",
    "        \n",
    "        # TODO: call normalize() to normalize the data\n",
    "        X = self.normalize(X)\n",
    "        # TODO: calculate the distance with all the neighbours\n",
    "        kNN = []\n",
    "        for x1 in X:\n",
    "            dists = []\n",
    "            for x2 in self.X:\n",
    "                dist = self.d(x1, x2)\n",
    "                dists.append(dist)\n",
    "            nearest_indexes = np.argsort(dists)\n",
    "            nearest_labels = self.Y[nearest_indexes]\n",
    "            prob = np.mean(nearest_labels[1:self.k+1])\n",
    "            kNN.append(prob)\n",
    "        return np.array(kNN) > thresh\n",
    "\n",
    "    def confusionMatrix(self, X, Y): \n",
    "        #compute confusion matrix, input: X (user input)\n",
    "        '''\n",
    "        if not self.Y:\n",
    "            raise error?\n",
    "        # and validate X and Y shape\n",
    "        # should be Y given or taken from fit?\n",
    "            '''\n",
    "        X = np.array(X)\n",
    "        Y = np.array(Y)\n",
    "        pY = np.array(self.predict(X))\n",
    "\n",
    "        size = len(X)\n",
    "        # calculate entries of the confusion matrix by counting entries where the corresponding condition is given and make it relative to the whole set\n",
    "        TP = len(np.where((Y == 1) & (pY == 1))[0])/size\n",
    "        TN = len(np.where((Y == 0) & (pY == 0))[0])/size\n",
    "        FP = len(np.where((Y == 0) & (pY == 1))[0])/size\n",
    "        FN = len(np.where((Y == 1) & (pY == 0))[0])/size\n",
    "        return [[TP, FN], [FP, TN]]\n",
    "  "
   ]
  },
  {
   "cell_type": "code",
   "execution_count": 9,
   "id": "2acc579f",
   "metadata": {},
   "outputs": [
    {
     "name": "stdout",
     "output_type": "stream",
     "text": [
      "\n",
      "Manhattan\n",
      "Precision = 0.956140350877193 confusion matrix: [[0.3157894736842105, 0.03508771929824561], [0.008771929824561403, 0.6403508771929824]]\n",
      "Precision = 0.9649122807017544 confusion matrix: [[0.3157894736842105, 0.03508771929824561], [0.0, 0.6491228070175439]]\n",
      "Precision = 0.9649122807017544 confusion matrix: [[0.3157894736842105, 0.03508771929824561], [0.0, 0.6491228070175439]]\n",
      "Precision = 0.8947368421052632 confusion matrix: [[0.24561403508771928, 0.10526315789473684], [0.0, 0.6491228070175439]]\n",
      "Precision = 0.6491228070175439 confusion matrix: [[0.0, 0.3508771929824561], [0.0, 0.6491228070175439]]\n",
      "\n",
      "Euclidean\n",
      "Precision = 0.9736842105263158 confusion matrix: [[0.3333333333333333, 0.017543859649122806], [0.008771929824561403, 0.6403508771929824]]\n",
      "Precision = 0.9649122807017544 confusion matrix: [[0.3157894736842105, 0.03508771929824561], [0.0, 0.6491228070175439]]\n",
      "Precision = 0.9649122807017544 confusion matrix: [[0.3157894736842105, 0.03508771929824561], [0.0, 0.6491228070175439]]\n",
      "Precision = 0.8947368421052632 confusion matrix: [[0.24561403508771928, 0.10526315789473684], [0.0, 0.6491228070175439]]\n",
      "Precision = 0.6491228070175439 confusion matrix: [[0.0, 0.3508771929824561], [0.0, 0.6491228070175439]]\n",
      "\n",
      "Chebyshev\n",
      "Precision = 0.9210526315789473 confusion matrix: [[0.30701754385964913, 0.043859649122807015], [0.03508771929824561, 0.6140350877192983]]\n",
      "Precision = 0.9385964912280702 confusion matrix: [[0.2982456140350877, 0.05263157894736842], [0.008771929824561403, 0.6403508771929824]]\n",
      "Precision = 0.9298245614035088 confusion matrix: [[0.2982456140350877, 0.05263157894736842], [0.017543859649122806, 0.631578947368421]]\n",
      "Precision = 0.7982456140350878 confusion matrix: [[0.14912280701754385, 0.20175438596491227], [0.0, 0.6491228070175439]]\n",
      "Precision = 0.6491228070175439 confusion matrix: [[0.0, 0.3508771929824561], [0.0, 0.6491228070175439]]\n"
     ]
    }
   ],
   "source": [
    "# Task 4: test the data with user inputs\n",
    "def test_with_validation(k, func_name):\n",
    "    predictor_task04 = kNN_predictor(k, func_name)\n",
    "    predictor_task04.fit(training_set, training_label)\n",
    "    prediction_result = predictor_task04.predict(validation_set)\n",
    "    to_be_compare = zip(prediction_result, validation_label)\n",
    "    precision = 0\n",
    "    for pred, label in to_be_compare:\n",
    "        if pred == label:\n",
    "            precision += 1\n",
    "    precision = precision / len(validation_label)\n",
    "    confusion_matrix = predictor_task04.confusionMatrix(validation_set, validation_label)\n",
    "    print(\"Precision =\", precision, \"confusion matrix:\", confusion_matrix)\n",
    "\n",
    "print(\"\\nManhattan\")\n",
    "test_with_validation(1, \"manhattan\")\n",
    "test_with_validation(20, \"manhattan\")\n",
    "test_with_validation(50, \"manhattan\")\n",
    "test_with_validation(200, \"manhattan\")\n",
    "test_with_validation(398, \"manhattan\")\n",
    "\n",
    "print(\"\\nEuclidean\")\n",
    "test_with_validation(1, \"euclidean\")\n",
    "test_with_validation(20, \"euclidean\")\n",
    "test_with_validation(50, \"euclidean\")\n",
    "test_with_validation(200, \"euclidean\")\n",
    "test_with_validation(398, \"euclidean\")\n",
    "\n",
    "print(\"\\nChebyshev\")\n",
    "test_with_validation(1, \"chebyshev\")\n",
    "test_with_validation(20, \"chebyshev\")\n",
    "test_with_validation(50, \"chebyshev\")\n",
    "test_with_validation(200, \"chebyshev\")\n",
    "test_with_validation(398, \"chebyshev\") "
   ]
  },
  {
   "cell_type": "code",
   "execution_count": 104,
   "id": "12d2c0d2",
   "metadata": {},
   "outputs": [],
   "source": [
    "# Generating background\n",
    "knn = kNN_predictor(4, \"manhattan\")\n",
    "\n",
    "coord_values = np.arange(5, 35, 1)\n",
    "# make an numpy array with each element as [xi, yj]\n",
    "coordinates = np.array([[xi, yj] for xi in coord_values for yj in coord_values])\n",
    "# reshape it into [[xi, yj]...[xm, yn]]\n",
    "coordinates = coordinates.reshape(-1, 2)\n",
    "\n",
    "training_set_v = data_array[0:int(da_len * 0.7), :2]\n",
    "training_label = y[:int(da_len * 0.7)]\n",
    "\n",
    "\n",
    "# training background points\n",
    "knn.fit(training_set_v, training_label)\n",
    "\n",
    "# predicting them\n",
    "prediction_results = knn.predict(coordinates)"
   ]
  },
  {
   "cell_type": "markdown",
   "id": "4e13f4ae",
   "metadata": {},
   "source": []
  },
  {
   "cell_type": "code",
   "execution_count": 96,
   "id": "7fa187a0",
   "metadata": {},
   "outputs": [],
   "source": [
    "# Training for background\n",
    "knn = kNN_predictor(4, \"manhattan\")\n",
    "\n",
    "coord_values = np.arange(7.5, 40, 0.1)\n",
    "# make an numpy array with each element as [xi, yj]\n",
    "coordinates = np.array([[xi, yj] for xi in coord_values for yj in coord_values])\n",
    "\n",
    "training_set_v = data_array[0:int(da_len * 0.7), :2]\n",
    "training_label = y[:int(da_len * 0.7)]\n",
    "\n",
    "\n",
    "# training background points\n",
    "knn.fit(training_set_v, training_label)\n",
    "\n",
    "# predicting them\n",
    "prediction_results = knn.predict(coordinates)\n",
    "\n",
    "# getting their coordinates\n",
    "array_sick_v = np.concatenate([coordinates[np.where(prediction_results==1)]])\n",
    "array_healthy_v = np.concatenate([coordinates[np.where(prediction_results==0)]])\n"
   ]
  },
  {
   "cell_type": "code",
   "execution_count": 106,
   "id": "97fda8e8",
   "metadata": {},
   "outputs": [
    {
     "data": {
      "image/png": "[encoded data removed]",
      "text/plain": [
       "<Figure size 432x288 with 1 Axes>"
      ]
     },
     "metadata": {
      "needs_background": "light"
     },
     "output_type": "display_data"
    },
    {
     "data": {
      "image/png": "[encoded data removed]",
      "text/plain": [
       "<Figure size 432x288 with 1 Axes>"
      ]
     },
     "metadata": {
      "needs_background": "light"
     },
     "output_type": "display_data"
    }
   ],
   "source": [
    "# Task 5: visualization\n",
    "\n",
    "def visualization(data_set_1, label1, data_set_2, label2, title):\n",
    "    plt.title(title)\n",
    "    \n",
    "    # background\n",
    "    plt.scatter(array_sick_v[:, 0].reshape(-1,), array_sick_v[:, 1].reshape(-1,), marker=\"o\", c=\"lightsalmon\")\n",
    "    plt.scatter(array_healthy_v[:, 0].reshape(-1,), array_healthy_v[:, 1].reshape(-1,), marker=\"v\", c=\"palegreen\")\n",
    "    #plt.savefig('backgroundimage')\n",
    "    \n",
    "    # actual points\n",
    "    array_sick = np.concatenate([data_set_1[np.where(label1==1)], data_set_2[np.where(label2==1)]])\n",
    "    array_healthy = np.concatenate([data_set_1[np.where(label1==0)],data_set_2[np.where(label2==0)]])\n",
    "    plt.scatter(array_sick[:, 0].reshape(-1,), array_sick[:, 1].reshape(-1,), marker=\"o\", label=\"sick\", c=\"r\")\n",
    "    plt.scatter(array_healthy[:, 0].reshape(-1,), array_healthy[:, 1].reshape(-1,), marker=\"v\", label=\"healthy\", c=\"g\")\n",
    "    plt.legend()\n",
    "    plt.show()\n",
    "\n",
    "\n",
    "\n",
    "visualization(training_set[0:40], training_label[0:40], validation_set[0:40], validation_label[0:40], \"KNN Patient Prediction with subset 40\")  \n",
    "visualization(training_set[0:60], training_label[0:60], validation_set[0:60], validation_label[0:60], \"KNN Patient Prediction with subset 60\")"
   ]
  }
 ],
 "metadata": {
  "kernelspec": {
   "display_name": "Python 3 (ipykernel)",
   "language": "python",
   "name": "python3"
  },
  "language_info": {
   "codemirror_mode": {
    "name": "ipython",
    "version": 3
   },
   "file_extension": ".py",
   "mimetype": "text/x-python",
   "name": "python",
   "nbconvert_exporter": "python",
   "pygments_lexer": "ipython3",
   "version": "3.11.4"
  }
 },
 "nbformat": 4,
 "nbformat_minor": 5
}
