{
 "cells": [
  {
   "cell_type": "code",
   "execution_count": 2,
   "id": "0af57a85",
   "metadata": {},
   "outputs": [],
   "source": [
    "import pandas as pd\n",
    "# part 1\n",
    "# 1.a: load data frame from file, store into df\n",
    "df = pd.read_csv('KNNAlgorithmDataset.csv')\n",
    "#print(df, type(df))\n",
    "\n",
    "# 1.b: set column 'diagnosis' as target variable y\n",
    "y = df[\"diagnosis\"]\n",
    "#print(y) \n",
    "\n",
    "#1.c: shuffle the samples\n",
    "df = df.sample(frac=1)  #??? q01: if re-indexing needed? \n",
    "# frac = [0,1], incase frac = 0.5, shuffle 50% of the rows\n",
    "#print(df)\n",
    "\n",
    "# convert data frame into array\n",
    "data_array = df.values\n",
    "# print(data_array)"
   ]
  },
  {
   "cell_type": "code",
   "execution_count": 3,
   "id": "492f8a27",
   "metadata": {
    "scrolled": false
   },
   "outputs": [],
   "source": [
    "# Task 02: seperate data into training(70%), validation(20%) and test(10%) sets by slicing\n",
    "# length of data frame\n",
    "da_len = len(data_array)\n",
    "training_set = data_array[:int(da_len * 0.7)]\n",
    "validation_set = data_array[int(da_len * 0.7): int(da_len * 0.9)]\n",
    "test_set = data_array[int(da_len* 0.9):]\n",
    "#print(len(training_set) + len(validation_set) + len(test_set) == da_len) # the whole data array included in the 3 sets: True "
   ]
  },
  {
   "cell_type": "code",
   "execution_count": 4,
   "id": "1d530e5f",
   "metadata": {},
   "outputs": [
    {
     "name": "stdout",
     "output_type": "stream",
     "text": [
      "5.196152422706632\n"
     ]
    }
   ],
   "source": [
    "# implements the distance algorithms in 2D environment\n",
    "import numpy as np\n",
    "# Manhattan distance\n",
    "def manhattan_distance(p1, p2):\n",
    "    result = []\n",
    "    \n",
    "    #TODO: return \\x1-x2\\ + \\y1-y2\\     \n",
    "    return result\n",
    "\n",
    "# Euclidean distance\n",
    "def euclidean_distance(p01,p02):\n",
    "    # use np library\n",
    "    return np.linalg.norm(p01 - p02)\n",
    "\n",
    "# Chebyshev distance\n",
    "def chebyshev_distance(x1, y1, x2, y2):\n",
    "    # return max(\\x1-x2\\, \\y1-y2\\)\n",
    "    # abs(): absolute value\n",
    "    return max(abs(x1 - x2), abs(y1 - y2))\n",
    "\n",
    "# test algo with data: correct\n",
    "test_point01 = np.array((1,2,3))\n",
    "test_point02 = np.array((4,5,6))\n",
    "\n",
    "# print(manhattan_distance(x1, y1, x2, y2))   #3 + 4 = 7\n",
    "print(euclidean_distance(test_point01, test_point02))\n",
    "# print(chebyshev_distance(x1, y1, x2, y2))   # max(\\-3\\, \\-4\\) = 4"
   ]
  },
  {
   "cell_type": "code",
   "execution_count": 30,
   "id": "4fbc2464",
   "metadata": {},
   "outputs": [],
   "source": [
    "# Task 3: implement the kNN algorithm\n",
    "# accroding to 2.2 kNN algo is capsuled in a kNN predictor\n",
    "class kNN_predictor:\n",
    "    #constructor: define attribiutes\n",
    "    def __init__(self, k, distance_func):\n",
    "        self.k = k  # k neighbours\n",
    "        self.distance_func = distance_func\n",
    "        # X(data) and Y(classes / target values) will be provided in fit() as parameters\n",
    "        self.X = None\n",
    "        self.Y = None\n",
    "        \n",
    "    # functions\n",
    "    def fit(self, X, Y):\n",
    "        #feed the model with data\n",
    "        self.X = X\n",
    "        self.Y = Y\n",
    "        \n",
    "    def predict():\n",
    "        #predict classification or regression result for new data.\n",
    "        return None\n",
    "        \n",
    "    def confusionMatrix(self, X, Y): \n",
    "        #compute confusion matrix, input: X (user input)\n",
    "        '''\n",
    "        if not self.Y:\n",
    "            raise error?\n",
    "        # and validate X and Y shape\n",
    "        # should be Y given or taken from fit?\n",
    "            '''\n",
    "        X = np.array(X)\n",
    "        Y = np.array(Y)\n",
    "        pY = np.array([0,1,0,1])#np.array(predict(X))------------Placeholder\n",
    "        \n",
    "        size = len(X)\n",
    "        # calculate entries of the confusion matrix by counting entries where the corresponding condition is given and make it relative to the whole set\n",
    "        TP = len(np.where((Y == 1) & (pY == 1))[0])/size\n",
    "        TN = len(np.where((Y == 0) & (pY == 0))[0])/size\n",
    "        FP = len(np.where((Y == 0) & (pY == 1))[0])/size\n",
    "        FN = len(np.where((Y == 1) & (pY == 0))[0])/size\n",
    "\n",
    "        return [[TP, FN], [FP, TN]]\n",
    "  "
   ]
  },
  {
   "cell_type": "code",
   "execution_count": 31,
   "id": "90ace701",
   "metadata": {},
   "outputs": [
    {
     "name": "stdout",
     "output_type": "stream",
     "text": [
      "[[0.25, 0.0], [0.25, 0.5]]\n"
     ]
    }
   ],
   "source": [
    "#Test confusionMatrix()\n",
    "predictor = kNN_predictor(5, None)\n",
    "print(predictor.confusionMatrix([0,1,2,3],[0,1,0,0]))"
   ]
  },
  {
   "cell_type": "code",
   "execution_count": null,
   "id": "2acc579f",
   "metadata": {},
   "outputs": [],
   "source": [
    "# Task 4: test the data"
   ]
  },
  {
   "cell_type": "code",
   "execution_count": null,
   "id": "48f887c8",
   "metadata": {},
   "outputs": [],
   "source": [
    "# Task 5: visualization"
   ]
  }
 ],
 "metadata": {
  "kernelspec": {
   "display_name": "Python 3 (ipykernel)",
   "language": "python",
   "name": "python3"
  },
  "language_info": {
   "codemirror_mode": {
    "name": "ipython",
    "version": 3
   },
   "file_extension": ".py",
   "mimetype": "text/x-python",
   "name": "python",
   "nbconvert_exporter": "python",
   "pygments_lexer": "ipython3",
   "version": "3.10.4"
  }
 },
 "nbformat": 4,
 "nbformat_minor": 5
}
