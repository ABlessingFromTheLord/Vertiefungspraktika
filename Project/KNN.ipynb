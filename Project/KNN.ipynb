{
 "cells": [
  {
   "cell_type": "code",
   "execution_count": 4,
   "id": "0af57a85",
   "metadata": {},
   "outputs": [
    {
     "name": "stdout",
     "output_type": "stream",
     "text": [
      "     diagnosis  radius_mean  texture_mean  perimeter_mean  area_mean  \\\n",
      "528          0       13.940         13.17           90.31      594.2   \n",
      "259          1       15.530         33.56          103.70      744.9   \n",
      "85           1       18.460         18.52          121.10     1075.0   \n",
      "505          0        9.676         13.14           64.12      272.5   \n",
      "357          0       13.870         16.21           88.52      593.7   \n",
      "..         ...          ...           ...             ...        ...   \n",
      "253          1       17.300         17.08          113.00      928.2   \n",
      "310          0       11.700         19.11           74.33      418.7   \n",
      "563          1       20.920         25.09          143.00     1347.0   \n",
      "173          0       11.080         14.71           70.21      372.7   \n",
      "20           0       13.080         15.71           85.63      520.0   \n",
      "\n",
      "     smoothness_mean  compactness_mean  concavity_mean  concave points_mean  \\\n",
      "528          0.12480           0.09755         0.10100              0.06615   \n",
      "259          0.10630           0.16390         0.17510              0.08399   \n",
      "85           0.09874           0.10530         0.13350              0.08795   \n",
      "505          0.12550           0.22040         0.11880              0.07038   \n",
      "357          0.08743           0.05492         0.01502              0.02088   \n",
      "..               ...               ...             ...                  ...   \n",
      "253          0.10080           0.10410         0.12660              0.08353   \n",
      "310          0.08814           0.05253         0.01583              0.01148   \n",
      "563          0.10990           0.22360         0.31740              0.14740   \n",
      "173          0.10060           0.05743         0.02363              0.02583   \n",
      "20           0.10750           0.12700         0.04568              0.03110   \n",
      "\n",
      "     symmetry_mean  ...  radius_worst  texture_worst  perimeter_worst  \\\n",
      "528         0.1976  ...         14.62          15.38            94.52   \n",
      "259         0.2091  ...         18.49          49.54           126.30   \n",
      "85          0.2132  ...         22.93          27.68           152.20   \n",
      "505         0.2057  ...         10.60          18.04            69.47   \n",
      "357         0.1424  ...         15.11          25.58            96.74   \n",
      "..             ...  ...           ...            ...              ...   \n",
      "253         0.1813  ...         19.85          25.09           130.90   \n",
      "310         0.1936  ...         12.61          26.55            80.92   \n",
      "563         0.2149  ...         24.29          29.41           179.10   \n",
      "173         0.1566  ...         11.35          16.82            72.01   \n",
      "20          0.1967  ...         14.50          20.49            96.09   \n",
      "\n",
      "     area_worst  smoothness_worst  compactness_worst  concavity_worst  \\\n",
      "528       653.3            0.1394             0.1364          0.15590   \n",
      "259      1035.0            0.1883             0.5564          0.57030   \n",
      "85       1603.0            0.1398             0.2089          0.31570   \n",
      "505       328.1            0.2006             0.3663          0.29130   \n",
      "357       694.4            0.1153             0.1008          0.05285   \n",
      "..          ...               ...                ...              ...   \n",
      "253      1222.0            0.1416             0.2405          0.33780   \n",
      "310       483.1            0.1223             0.1087          0.07915   \n",
      "563      1819.0            0.1407             0.4186          0.65990   \n",
      "173       396.5            0.1216             0.0824          0.03938   \n",
      "20        630.5            0.1312             0.2776          0.18900   \n",
      "\n",
      "     concave points_worst  symmetry_worst  fractal_dimension_worst  \n",
      "528               0.10150          0.2160                  0.07253  \n",
      "259               0.20140          0.3512                  0.12040  \n",
      "85                0.16420          0.3695                  0.08579  \n",
      "505               0.10750          0.2848                  0.13640  \n",
      "357               0.05556          0.2362                  0.07113  \n",
      "..                    ...             ...                      ...  \n",
      "253               0.18570          0.3138                  0.08113  \n",
      "310               0.05741          0.3487                  0.06958  \n",
      "563               0.25420          0.2929                  0.09873  \n",
      "173               0.04306          0.1902                  0.07313  \n",
      "20                0.07283          0.3184                  0.08183  \n",
      "\n",
      "[569 rows x 31 columns]\n"
     ]
    }
   ],
   "source": [
    "import pandas as pd\n",
    "# part 1\n",
    "# 1.a: load data frame from file, store into df\n",
    "df = pd.read_csv('KNNAlgorithmDataset.csv')\n",
    "#print(df, type(df))\n",
    "\n",
    "# 1.b: set column 'diagnosis' as target variable y\n",
    "y = df[\"diagnosis\"]\n",
    "#print(y) \n",
    "\n",
    "#1.c: shuffle the samples\n",
    "df = df.sample(frac=1)  #??? q01: if re-indexing needed? \n",
    "print(df)\n"
   ]
  },
  {
   "cell_type": "code",
   "execution_count": 2,
   "id": "492f8a27",
   "metadata": {
    "scrolled": false
   },
   "outputs": [],
   "source": [
    "# Task 02: seperate data into training(70%), validation(20%) and test(10%) sets by slicing\n",
    "# length of data frame\n",
    "df_len = len(df)\n",
    "training_set = df[:int(df_len * 0.7)]\n",
    "validation_set = df[int(df_len* 0.7): int(df_len * 0.9)]\n",
    "test_set = df[int(df_len* 0.9):]\n",
    "# print(test_set)\n",
    "# print(len(training_set) + len(validation_set) + len(test_set) == df_len) # the whole data frame in inculded in the 3 sets: True "
   ]
  },
  {
   "cell_type": "code",
   "execution_count": 55,
   "id": "1d530e5f",
   "metadata": {},
   "outputs": [
    {
     "name": "stdout",
     "output_type": "stream",
     "text": [
      "5.196152422706632\n"
     ]
    }
   ],
   "source": [
    "# implements the distance algorithms in 2D environment\n",
    "import numpy as np\n",
    "# Manhattan distance\n",
    "def manhattan_distance(x1, y1, x2, y2):\n",
    "    #return \\x1-x2\\ + \\y1-y2\\     \n",
    "    return abs(x1 - x2) + abs(y1 - y2)\n",
    "\n",
    "# Euclidean distance\n",
    "def euclidean_distance(n_dim_arr01,n_dim_arr02):\n",
    "    return np.linalg.norm(n_dim_arr01 - n_dim_arr02)\n",
    "\n",
    "# Chebyshev distance\n",
    "def chebyshev_distance(x1, y1, x2, y2):\n",
    "    # return max(\\x1-x2\\, \\y1-y2\\)\n",
    "    # abs(): absolute value\n",
    "    return max(abs(x1 - x2), abs(y1 - y2))\n",
    "\n",
    "# test algo with data: correct\n",
    "arr_test01 = np.array((1,2,3))\n",
    "arr_test02 = np.array((4,5,6))\n",
    "\n",
    "# print(manhattan_distance(x1, y1, x2, y2))   #3 + 4 = 7\n",
    "print(euclidean_distance(arr_test01, arr_test02))\n",
    "# print(chebyshev_distance(x1, y1, x2, y2))   # max(\\-3\\, \\-4\\) = 4"
   ]
  },
  {
   "cell_type": "code",
   "execution_count": 40,
   "id": "4fbc2464",
   "metadata": {},
   "outputs": [],
   "source": [
    "# Task 3: implement the kNN algorithm\n",
    "# accroding to 2.2 kNN algo is capsuled in a kNN predictor\n",
    "class kNN_predictor:\n",
    "    #constructor: define attribiutes\n",
    "    def __init__(self, k, distance_func):\n",
    "        self.k = k  # k neighbours\n",
    "        self.distance_func = distance_func\n",
    "        # X(data) and Y(classes / target values) will be provided in fit() as parameters\n",
    "        self.X = None\n",
    "        self.Y = None\n",
    "        \n",
    "    # functions\n",
    "        def fit(self, X, Y):\n",
    "            #feed the model with data\n",
    "            self.X = X\n",
    "            self.Y = Y\n",
    "            \n",
    "        def predict():\n",
    "            #predict classification or regression result for new data.\n",
    "            return None\n",
    "            \n",
    "        def confusionMatrix(self, X):\n",
    "            #compute confusion matrix, input: X (user input)\n",
    "            return None\n",
    "    \n",
    "    \n",
    "  "
   ]
  },
  {
   "cell_type": "code",
   "execution_count": null,
   "id": "2acc579f",
   "metadata": {},
   "outputs": [],
   "source": [
    "# Task 4: test the data"
   ]
  },
  {
   "cell_type": "code",
   "execution_count": null,
   "id": "48f887c8",
   "metadata": {},
   "outputs": [],
   "source": [
    "# Task 5: visualization"
   ]
  }
 ],
 "metadata": {
  "kernelspec": {
   "display_name": "Python 3 (ipykernel)",
   "language": "python",
   "name": "python3"
  },
  "language_info": {
   "codemirror_mode": {
    "name": "ipython",
    "version": 3
   },
   "file_extension": ".py",
   "mimetype": "text/x-python",
   "name": "python",
   "nbconvert_exporter": "python",
   "pygments_lexer": "ipython3",
   "version": "3.11.4"
  }
 },
 "nbformat": 4,
 "nbformat_minor": 5
}
