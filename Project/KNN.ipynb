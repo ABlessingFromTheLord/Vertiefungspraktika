{
 "cells": [
  {
   "cell_type": "code",
   "execution_count": 1,
   "id": "9ca065d1",
   "metadata": {},
   "outputs": [],
   "source": [
    "import pandas as pd\n",
    "import numpy as np\n",
    "import matplotlib.pyplot as plt\n",
    "from matplotlib.colors import ListedColormap"
   ]
  },
  {
   "cell_type": "code",
   "execution_count": 2,
   "id": "0af57a85",
   "metadata": {},
   "outputs": [],
   "source": [
    "# Task 01\n",
    "# 1.a: load data frame from file, store into df\n",
    "df = pd.read_csv('KNNAlgorithmDataset.csv')\n",
    "#print(df)\n",
    "\n",
    "#1.c: shuffle the samples\n",
    "df = df.sample(frac=1)\n",
    "# frac = [0,1], incase frac = 0.5, shuffle 50% of the rows\n",
    "#print(df)\n",
    "\n",
    "# convert data frame into array\n",
    "data_array = df.values[:, 1:]  #unselect 1st column / label y\n",
    "\n",
    "# 1.b: set column 'diagnosis' as target variable y / the label\n",
    "y = df[\"diagnosis\"].values\n",
    "#print(y) "
   ]
  },
  {
   "cell_type": "code",
   "execution_count": 3,
   "id": "36f861f2",
   "metadata": {},
   "outputs": [
    {
     "name": "stdout",
     "output_type": "stream",
     "text": [
      "[[-1.03304249 -0.15815877 -1.03424611 ... -0.75107054 -1.11263786\n",
      "  -0.30621768]\n",
      " [ 3.15048662  1.30789352  3.27589644 ...  2.62040265 -0.88291301\n",
      "   1.17227633]\n",
      " [-0.68654517 -0.4886023  -0.71213875 ... -0.07165977 -0.53185462\n",
      "  -0.71906552]\n",
      " ...\n",
      " [ 0.60571942  0.60279218  0.63972362 ... -0.15083807 -0.2665386\n",
      "  -0.24470612]\n",
      " [-0.84843326 -1.21464725 -0.85383304 ... -1.14787567 -0.52538349\n",
      "  -0.76284401]\n",
      " [ 0.46939261 -0.3257076   0.47908184 ...  1.01095131  1.44183773\n",
      "   1.15565159]]\n"
     ]
    }
   ],
   "source": [
    "# Task 01: normalizing the data with z-score normalization\n",
    "\n",
    "mean = data_array.mean(axis=0)\n",
    "standard_deviation = data_array.std(axis=0)\n",
    "\n",
    "normalized_data = (data_array - mean) / standard_deviation\n",
    "\n",
    "print(normalized_data)"
   ]
  },
  {
   "cell_type": "code",
   "execution_count": 4,
   "id": "492f8a27",
   "metadata": {
    "scrolled": false
   },
   "outputs": [],
   "source": [
    "# Task 02: seperate data into training(70%), validation(20%) and test(10%) sets by slicing\n",
    "da_len = len(data_array)   #number of rows / length of data_array\n",
    "\n",
    "training_set = data_array[0:int(da_len * 0.7)]\n",
    "training_label = y[:int(da_len * 0.7)]\n",
    "\n",
    "#print(training_set)\n",
    "validation_set = data_array[int(da_len * 0.7): int(da_len * 0.9)]\n",
    "validation_label = y[int(da_len * 0.7): int(da_len * 0.9)]\n",
    "\n",
    "test_set = data_array[int(da_len* 0.9):]\n",
    "test_label = y[int(da_len* 0.9):]\n",
    "#print(len(training_set) + len(validation_set) + len(test_set) == da_len) # the whole data array included in the 3 sets: True "
   ]
  },
  {
   "cell_type": "code",
   "execution_count": 5,
   "id": "1d530e5f",
   "metadata": {},
   "outputs": [],
   "source": [
    "# 3.c distance algorithms with input of two 1D-Vectors, return distance (real number) of 2 vectors(x1,...,xn)\n",
    "# Manhattan distance\n",
    "def manhattan_distance(vector01, vector02):\n",
    "    # raise error if data points are not of the same length\n",
    "    if (len(vector01) != len(vector02)):\n",
    "        raise ValueError(\"Unequal length of inputed data points\")\n",
    "    # return sum(\\xi_m - xj_m\\)\n",
    "    return np.sum(np.abs(vector01 - vector02))    # np.abs(): absolute value of each elements\n",
    "    # a variante: use np.fabs(v1, v2), return np.sum(np.fabs(vector01 - vector02))\n",
    "\n",
    "# Euclidean distance\n",
    "def euclidean_distance(vector01, vector02):\n",
    "    if (len(vector01) != len(vector02)):\n",
    "        raise ValueError(\"Unequal length of inputed data points\")\n",
    "    # use np library: calculate the norm of the new vector (difference of two old vectors)\n",
    "    return np.linalg.norm(vector01 - vector02)\n",
    "\n",
    "# Chebyshev distance\n",
    "def chebyshev_distance(vector01, vector02):\n",
    "    if (len(vector01) != len(vector02)):\n",
    "        raise ValueError(\"Unequal length of inputed data points\")\n",
    "    # return max(\\xi_01 - xi_02\\)\n",
    "    absolute_array = [np.abs(vector01[i] - vector02[i]) for i in range(len(vector01))]\n",
    "    return max(absolute_array)\n",
    "\n",
    "\n",
    "# test algo with data: \n",
    "#t_p01 = training_set[0]\n",
    "#t_p02 = training_set[1]\n",
    "#t_short01 = [1.1,2,4.43,8]\n",
    "#t_short02 = [3,4.7,6,9.69]\n",
    "\n",
    "#print(manhattan_distance(t_p01, t_p02))    # test (compared with result by online calculator): True\n",
    "#print(euclidean_distance(t_p01, t_p02))    # definition from numpy library\n",
    "#print(chebyshev_distance(t_short01, t_short02))    # test: True"
   ]
  },
  {
   "cell_type": "code",
   "execution_count": 6,
   "id": "e1b0c591",
   "metadata": {},
   "outputs": [],
   "source": [
    "# task 3.2: check if user inputs are valid\n",
    "def check_predictor_input(k, d):\n",
    "    valid_dist_algos = ['manhattan', 'euclidean', 'chebyshev']\n",
    "    # there are k training set rows / neighbours for the new data point\n",
    "    if k > len(training_set):\n",
    "        raise ValueError(f\"Given k too large! Give a number not larger than {len(training_set)}\")\n",
    "    if d.lower() not in valid_dist_algos:\n",
    "        raise ValueError(f\"Given algorithm is not valid, please choose from {valid_dist_algos}!\")\n",
    "        \n",
    "#test: passed\n",
    "#check_predictor_input(100, 'manha')\n",
    "#check_predictor_input(400, 'chebyshev')"
   ]
  },
  {
   "cell_type": "code",
   "execution_count": 7,
   "id": "4fbc2464",
   "metadata": {},
   "outputs": [],
   "source": [
    "# Task 3: implement the kNN algorithm\n",
    "# accroding to 2.2 kNN algo is capsuled in a kNN predictor\n",
    "class kNN_predictor:\n",
    "    #constructor: define attribiutes\n",
    "    def __init__(self, k, distance_func):    #q: if the k and dist-func is given as param in constructor or later in predict func?\n",
    "        check_predictor_input(k, distance_func)\n",
    "        self.trained = False   #default: not trained\n",
    "        self.k = k  # k neighbours\n",
    "        if (distance_func == 'manhattan'):\n",
    "            self.dname = 'Manhattan distance'\n",
    "            self.d = manhattan_distance\n",
    "        elif (distance_func == 'euclidean'):\n",
    "            self.dname = 'Euclidean distance'\n",
    "            self.d = euclidean_distance\n",
    "        elif (distance_func == 'chebyshev'):\n",
    "            self.dname = 'Chebyshev distance'\n",
    "            self.d = chebyshev_distance\n",
    "        else:\n",
    "            raise ValueError(\"Invalid function\")\n",
    "        # X(data set) and Y(classes / target values) will be provided in fit() as parameters\n",
    "        self.X = None\n",
    "        self.Y = None\n",
    "        # for the normalization\n",
    "        self.mean = None\n",
    "        self.std = None\n",
    "    \n",
    "    def normalize(self, X):\n",
    "        if self.trained == False:\n",
    "            raise(\"Predictor is not trained! Train it first by calling fit()!\")\n",
    "        return (X - self.mean) / self.std\n",
    "    \n",
    "    # functions\n",
    "    def fit(self, training_X, training_Y):\n",
    "        #feed the model with training data\n",
    "        # TODO: normalize X before storing\n",
    "        self.X = training_X\n",
    "        self.Y = training_Y\n",
    "        self.mean = self.X.mean(axis=0)\n",
    "        self.std = self.X.std(axis=0)\n",
    "        self.trained = True   #set trained\n",
    "\n",
    "        self.X = self.normalize(self.X)\n",
    "        \n",
    "\n",
    "    def predict(self, X, thresh=0.5):\n",
    "        # check if predictor is trained\n",
    "        if self.trained == False:\n",
    "            raise(\"Predictor is not trained! Train it first by calling fit()!\")\n",
    "        \n",
    "        # TODO: call normalize() to normalize the data\n",
    "        X = self.normalize(X)\n",
    "        # TODO: calculate the distance with all the neighbours\n",
    "        kNN = []\n",
    "        for x1 in X:\n",
    "            dists = []\n",
    "            for x2 in self.X:\n",
    "                dist = self.d(x1, x2)\n",
    "                dists.append(dist)\n",
    "            nearest_indexes = np.argsort(dists)\n",
    "            nearest_labels = self.Y[nearest_indexes]\n",
    "            prob = np.mean(nearest_labels[1:self.k+1])\n",
    "            kNN.append(prob)\n",
    "        return np.array(kNN) > thresh\n",
    "\n",
    "    def confusionMatrix(self, X, Y): \n",
    "        #compute confusion matrix, input: X (user input)\n",
    "        '''\n",
    "        if not self.Y:\n",
    "            raise error?\n",
    "        # and validate X and Y shape\n",
    "        # should be Y given or taken from fit?\n",
    "            '''\n",
    "        X = np.array(X)\n",
    "        Y = np.array(Y)\n",
    "        pY = np.array(self.predict(X))\n",
    "\n",
    "        size = len(X)\n",
    "        # calculate entries of the confusion matrix by counting entries where the corresponding condition is given and make it relative to the whole set\n",
    "        TP = len(np.where((Y == 1) & (pY == 1))[0])/size\n",
    "        TN = len(np.where((Y == 0) & (pY == 0))[0])/size\n",
    "        FP = len(np.where((Y == 0) & (pY == 1))[0])/size\n",
    "        FN = len(np.where((Y == 1) & (pY == 0))[0])/size\n",
    "        return [[TP, FN], [FP, TN]]\n",
    "  "
   ]
  },
  {
   "cell_type": "code",
   "execution_count": 8,
   "id": "fa8929ca",
   "metadata": {},
   "outputs": [
    {
     "data": {
      "text/plain": [
       "array([False])"
      ]
     },
     "execution_count": 8,
     "metadata": {},
     "output_type": "execute_result"
    }
   ],
   "source": [
    "# Testing the predictor\n",
    "\n",
    "pred = kNN_predictor(4, 'manhattan')\n",
    "pred.fit(data_array, y)\n",
    "\n",
    "pred.predict([data_array[4]])"
   ]
  },
  {
   "cell_type": "code",
   "execution_count": 9,
   "id": "2acc579f",
   "metadata": {},
   "outputs": [],
   "source": [
    "# Task 4: test the data with user inputs"
   ]
  },
  {
   "cell_type": "code",
   "execution_count": 13,
   "id": "48f887c8",
   "metadata": {},
   "outputs": [
    {
     "data": {
      "image/png": "[encoded data removed]",
      "text/plain": [
       "<Figure size 432x288 with 1 Axes>"
      ]
     },
     "metadata": {
      "needs_background": "light"
     },
     "output_type": "display_data"
    }
   ],
   "source": [
    "# Task 5: visualization\n",
    "\n",
    "def visualization(data_set_1, label1, data_set_2, label2, title):\n",
    "    plt.title(title)\n",
    "    \n",
    "    array_sick = np.concatenate([data_set_1[np.where(label1==1)], data_set_2[np.where(label2==1)]])\n",
    "    array_healthy = np.concatenate([data_set_1[np.where(label1==0)],data_set_2[np.where(label2==0)]])\n",
    "    \n",
    "    plt.scatter(array_sick[:, 0].reshape(-1,), array_sick[:, 1].reshape(-1,), marker=\"o\", label=\"sick\", c=\"r\")\n",
    "    plt.scatter(array_healthy[:, 0].reshape(-1,), array_healthy[:, 1].reshape(-1,), marker=\"v\", label=\"healthy\", c=\"g\")\n",
    "    \n",
    "    plt.legend()\n",
    "    plt.show()\n",
    "\n",
    "visualization(training_set[0:60], training_label[0:60], validation_set[0:60], validation_label[0:60], \"KNN Patient Prediction\")    "
   ]
  },
  {
   "cell_type": "markdown",
   "id": "4e13f4ae",
   "metadata": {},
   "source": []
  }
 ],
 "metadata": {
  "kernelspec": {
   "display_name": "Python 3 (ipykernel)",
   "language": "python",
   "name": "python3"
  },
  "language_info": {
   "codemirror_mode": {
    "name": "ipython",
    "version": 3
   },
   "file_extension": ".py",
   "mimetype": "text/x-python",
   "name": "python",
   "nbconvert_exporter": "python",
   "pygments_lexer": "ipython3",
   "version": "3.11.4"
  }
 },
 "nbformat": 4,
 "nbformat_minor": 5
}
