{
 "cells": [
  {
   "attachments": {},
   "cell_type": "markdown",
   "metadata": {},
   "source": [
    "# Python Introduction\n"
   ]
  },
  {
   "attachments": {},
   "cell_type": "markdown",
   "metadata": {},
   "source": [
    "The Internet is full of good Python tutorials allowing you to learn Python using whatever media (blog, video, book,  ...) you prefer. A good starting point, however, is the official Python tutorial https://docs.python.org/3/tutorial/index.html.\n",
    "\n",
    "While reading and understanding is one thing, coding is more about practicing what you learned conceptionally. For that purpose we created several small exercises that allow you to check whether you are able to use a specific aspect in practice. \n",
    "\n",
    "So have fun, use the web but also ask questions, that's why we are present!"
   ]
  },
  {
   "attachments": {},
   "cell_type": "markdown",
   "metadata": {},
   "source": [
    "# Jupyter notebook\n",
    "\n",
    "Jupyter notebooks (like the one you're looking at now) are a great way to write and also present Python code in a more flexible and interactive manner than with simple .py code files. This course will be based on jupyter notebooks - at first you will just write code into the designated cells, but for your project you will create your own notebooks from scratch. For this it is useful to know some basics and shortcuts.\n",
    "\n",
    "A jupyter notebook consists of cells, which can be executed in an arbitrary order or even repeatedly. At the end of your development process, the result should however be a clean notebook that can be run from top to bottom. Printouts are shown right below a cell. Variables declared in any cell will be available in all cells until you restart the jupyter kernel.\n",
    "\n",
    "There are two types of cells. You can switch the type at any point. There are:\n",
    "1. Code cells\n",
    "2. Markdown cells (in markdown cells you can also use math similar to latex, e.g. $\\omega = \\frac{1}{2}$)\n",
    "\n",
    "A cell can be in one of two modes, the command mode (blue frame) and the edit mode (green frame).\n",
    "\n",
    "### Keyboard shortcuts\n",
    "\n",
    "For most actions in a notebook, it is convenient to use your keyboard.\n",
    "\n",
    "You can switch from command mode to edit mode with `enter`, and back with `esc`.\n",
    "\n",
    "In command mode, you can use your keyboard for the following:\n",
    "- Switching the type of a cell: `y` to switch to code, `m` to switch to markdown\n",
    "- Create new cells: `a` (above) or `b` (below)\n",
    "- Delete cells: `x`\n",
    "\n",
    "In edit mode you can use the following:\n",
    "- Execute a cell: `ctrl+enter`, alternatively `shift+enter` to move right to the next cell (both also work in command mode!)\n",
    "- Show documentation or tooltips: `shift+tab` (only works for functions/classes that have already been imported)\n",
    "\n",
    "You can also find all these shortcuts (and more) when you press `h` in command mode.\n",
    "\n",
    "---"
   ]
  },
  {
   "attachments": {},
   "cell_type": "markdown",
   "metadata": {},
   "source": [
    "# Datatypes in Python\n",
    "\n",
    "What you should learn: Floats, Integers, Bools, Strings \n",
    "\n",
    "Reference: https://docs.python.org/3.8/library/stdtypes.html"
   ]
  },
  {
   "attachments": {},
   "cell_type": "markdown",
   "metadata": {},
   "source": [
    "## Ints and floats:\n",
    "\n",
    "Calculate the following expression\n",
    "\n",
    "$y = 1-(5*(6-12))$ \n",
    "\n",
    "Print the **result** and **type** with *print()* function. You can get the type of a variable by using the *type()* function."
   ]
  },
  {
   "cell_type": "code",
   "execution_count": 1,
   "metadata": {},
   "outputs": [
    {
     "name": "stdout",
     "output_type": "stream",
     "text": [
      "Result is  31\n",
      "The type is  <class 'int'>\n"
     ]
    }
   ],
   "source": [
    "y= 1-(5 *(6-12))\n",
    "print(\"Result is \", y)\n",
    "print(\"The type is \", type(y))"
   ]
  },
  {
   "attachments": {},
   "cell_type": "markdown",
   "metadata": {},
   "source": [
    "Use Python's *+=* operator to add $\\frac{5}{7}$ to $y$. \n",
    "Print result and type. What happened?"
   ]
  },
  {
   "cell_type": "code",
   "execution_count": 3,
   "metadata": {},
   "outputs": [
    {
     "name": "stdout",
     "output_type": "stream",
     "text": [
      "The result after adding 5/7 is  32.42857142857143\n",
      "Type after adding 5/7 is  <class 'float'>\n"
     ]
    }
   ],
   "source": [
    "y += (5/7)\n",
    "print(\"The result after adding 5/7 is \", y)\n",
    "print(\"Type after adding 5/7 is \", type(y))"
   ]
  },
  {
   "attachments": {},
   "cell_type": "markdown",
   "metadata": {},
   "source": [
    "We already saw above that after applying an operator to variables of a certain type, the result might be of another type (due to implicit type conversion of the arguments). When dividing an integer by another integer, the result will always be a float in Python 3, which is not the case for Python 2. Here, the result is an int which means positions behind the decimal point are lost. As a partial replacement for integer division, Python 3 provides floor division via the `//` operator. Use floor division to compute the following values, print their type as well:\n",
    "\n",
    "* $10$ divided by $3$\n",
    "* $-10$ divided by $3$\n",
    "* $10$ divided by $-3$\n",
    "* $-10$ divided by $-3$\n",
    "\n",
    "Can you explain what floor division exactly does?"
   ]
  },
  {
   "cell_type": "code",
   "execution_count": 5,
   "metadata": {},
   "outputs": [
    {
     "name": "stdout",
     "output_type": "stream",
     "text": [
      "10 divided by 3 is  3\n",
      "-10 divided by 3 is  -4\n",
      "10 divided by -3 is  -4\n",
      "-10 divided by -3 is  3\n"
     ]
    }
   ],
   "source": [
    "print(\"10 divided by 3 is \", 10 // 3)\n",
    "print(\"-10 divided by 3 is \", -10 // 3)\n",
    "print(\"10 divided by -3 is \", 10 // -3)\n",
    "print(\"-10 divided by -3 is \", -10 // -3)\n",
    "\n",
    "\n",
    "# floor division rounds down a float into an int "
   ]
  },
  {
   "attachments": {},
   "cell_type": "markdown",
   "metadata": {},
   "source": [
    "## Modulo and powers:\n",
    "\n",
    "Calculate the following expression\n",
    "\n",
    "$y = 8674^5\\mod 67$  (print result and type)"
   ]
  },
  {
   "cell_type": "code",
   "execution_count": 6,
   "metadata": {},
   "outputs": [
    {
     "name": "stdout",
     "output_type": "stream",
     "text": [
      "Result is  51\n"
     ]
    }
   ],
   "source": [
    "print(\"Result is \", ((8674 ** 5) % 67))"
   ]
  },
  {
   "attachments": {},
   "cell_type": "markdown",
   "metadata": {},
   "source": [
    "## Strings:\n",
    "\n",
    "Define two string variables:\n",
    "\n",
    "variable named `name` with value `Max`\n",
    "\n",
    "variable named `surname` with value `Mustermann`\n",
    "\n",
    "concatenate them with a whitespace in between. (print result and type)"
   ]
  },
  {
   "cell_type": "code",
   "execution_count": 10,
   "metadata": {},
   "outputs": [
    {
     "name": "stdout",
     "output_type": "stream",
     "text": [
      "Max Mustermann\n",
      "<class 'str'>\n"
     ]
    }
   ],
   "source": [
    "name = \"Max\"\n",
    "surname = \"Mustermann\"\n",
    "\n",
    "fullname = name + \" \" + surname\n",
    "\n",
    "print(fullname)\n",
    "print(type(fullname))"
   ]
  },
  {
   "attachments": {},
   "cell_type": "markdown",
   "metadata": {},
   "source": [
    "Since Python 3.6 there is a handy new way of formatting strings for command line output called *Formatted string literal*, typically called *f-string*.\n",
    "https://docs.python.org/3/reference/lexical_analysis.html#f-strings). \n",
    "\n",
    "Use an f-string to write a welcome message for Max."
   ]
  },
  {
   "cell_type": "code",
   "execution_count": 16,
   "metadata": {},
   "outputs": [
    {
     "name": "stdout",
     "output_type": "stream",
     "text": [
      "Welcome Max to this wonderful experience\n"
     ]
    }
   ],
   "source": [
    "print(f\"Welcome {name} to this wonderful experience\")"
   ]
  },
  {
   "attachments": {},
   "cell_type": "markdown",
   "metadata": {},
   "source": [
    "## Bools:\n",
    "\n",
    "Define two boolean variables a and b with values corresponding to true and false respectively\n",
    "\n",
    "and find the logical expression \n",
    "\n",
    "$ y = (a \\vee b ) \\wedge (a \\wedge \\neg a)$  (print result and type)\n",
    "\n",
    "where $\\neg a$ means $not\\,a$ using Python's boolean operators: *and*, *or*, and *not*"
   ]
  },
  {
   "cell_type": "code",
   "execution_count": 20,
   "metadata": {},
   "outputs": [
    {
     "name": "stdout",
     "output_type": "stream",
     "text": [
      "Result is False\n",
      "<class 'bool'>\n"
     ]
    }
   ],
   "source": [
    "a = True\n",
    "b = False\n",
    "\n",
    "y = (a or b) and (a and (not a))\n",
    "print(\"Result is\", y)\n",
    "print(type(y))"
   ]
  },
  {
   "attachments": {},
   "cell_type": "markdown",
   "metadata": {},
   "source": [
    "now calculate $ y = (a - b ) + (a + (\\neg a))$ (print result and type)"
   ]
  },
  {
   "cell_type": "code",
   "execution_count": 21,
   "metadata": {},
   "outputs": [
    {
     "name": "stdout",
     "output_type": "stream",
     "text": [
      "Result is 2\n",
      "<class 'int'>\n"
     ]
    }
   ],
   "source": [
    "y = (a - b) + (a + (not a))\n",
    "print(\"Result is\", y)\n",
    "print(type(y))"
   ]
  },
  {
   "attachments": {},
   "cell_type": "markdown",
   "metadata": {},
   "source": [
    "Compare `True + True` with `True and True`."
   ]
  },
  {
   "cell_type": "code",
   "execution_count": 22,
   "metadata": {},
   "outputs": [
    {
     "name": "stdout",
     "output_type": "stream",
     "text": [
      "False\n"
     ]
    }
   ],
   "source": [
    "print( (True + True) == (True and True))"
   ]
  },
  {
   "attachments": {},
   "cell_type": "markdown",
   "metadata": {},
   "source": [
    "Since Python does not have user-defined types it is very easy to mess up your calculations. Keep that in mind!"
   ]
  },
  {
   "attachments": {},
   "cell_type": "markdown",
   "metadata": {},
   "source": [
    "# Complex datastructures in Python\n",
    "What you should learn: List, Dictionary, Tuples, Indexing \n",
    "\n",
    "Material:\n",
    "https://docs.python.org/3/tutorial/datastructures.html"
   ]
  },
  {
   "attachments": {},
   "cell_type": "markdown",
   "metadata": {},
   "source": [
    "## List:\n",
    "\n",
    "Define the two lists \n",
    "\n",
    "`a = [1,2,3,4,5]`,\n",
    "\n",
    "`b = [10,9,8,7,6]`\n",
    "\n",
    "and concatenate them, store the result in `c` and print out `c` and the number of elements in `c` using the `len()` function."
   ]
  },
  {
   "cell_type": "code",
   "execution_count": 23,
   "metadata": {},
   "outputs": [
    {
     "name": "stdout",
     "output_type": "stream",
     "text": [
      "Array c:  [1, 2, 3, 4, 5, 10, 9, 8, 7, 6] ,  Length:  10\n"
     ]
    }
   ],
   "source": [
    "a = [1 , 2, 3, 4, 5]\n",
    "b = [10, 9, 8, 7, 6]\n",
    "\n",
    "c = a + b\n",
    "print(\"Array c: \", c, \", \", \"Length: \", len(c))"
   ]
  },
  {
   "attachments": {},
   "cell_type": "markdown",
   "metadata": {},
   "source": [
    "Now extract the sublist `d = [3,4,5,10]` from `c` using indexing"
   ]
  },
  {
   "cell_type": "code",
   "execution_count": 25,
   "metadata": {},
   "outputs": [
    {
     "name": "stdout",
     "output_type": "stream",
     "text": [
      "d is  [3, 4, 5, 10]\n"
     ]
    }
   ],
   "source": [
    "d = c[2:6]\n",
    "\n",
    "print(\"d is \", d)"
   ]
  },
  {
   "attachments": {},
   "cell_type": "markdown",
   "metadata": {},
   "source": [
    "Insert element `0` to list `d` behind element `4`."
   ]
  },
  {
   "cell_type": "code",
   "execution_count": 26,
   "metadata": {},
   "outputs": [
    {
     "name": "stdout",
     "output_type": "stream",
     "text": [
      "New d is  [3, 0, 4, 5, 10]\n"
     ]
    }
   ],
   "source": [
    "d.insert(1, 0)\n",
    "print(\"New d is \", d)"
   ]
  },
  {
   "attachments": {},
   "cell_type": "markdown",
   "metadata": {},
   "source": [
    "Append element `42` to List `d` and print the length of `d`"
   ]
  },
  {
   "cell_type": "code",
   "execution_count": 27,
   "metadata": {},
   "outputs": [
    {
     "name": "stdout",
     "output_type": "stream",
     "text": [
      "Old d length is  5\n",
      "New d length is  6\n"
     ]
    }
   ],
   "source": [
    "print(\"Old d length is \", len(d))\n",
    "d.append(42)\n",
    "\n",
    "print(\"New d length is \", len(d))"
   ]
  },
  {
   "attachments": {},
   "cell_type": "markdown",
   "metadata": {},
   "source": [
    "Append element `42` again to List `d` and print the length of `d`"
   ]
  },
  {
   "cell_type": "code",
   "execution_count": 28,
   "metadata": {},
   "outputs": [
    {
     "name": "stdout",
     "output_type": "stream",
     "text": [
      "New d length is  7\n"
     ]
    }
   ],
   "source": [
    "d.append(42)\n",
    "\n",
    "print(\"New d length is \", len(d))"
   ]
  },
  {
   "attachments": {},
   "cell_type": "markdown",
   "metadata": {},
   "source": [
    "Remove both elements `42` from List `d`, print `d` and its length"
   ]
  },
  {
   "cell_type": "code",
   "execution_count": 29,
   "metadata": {},
   "outputs": [
    {
     "name": "stdout",
     "output_type": "stream",
     "text": [
      "Old d is  [3, 0, 4, 5, 10, 42, 42]\n",
      "New d is  [3, 0, 4, 5, 10]\n",
      "New d length is  5\n"
     ]
    }
   ],
   "source": [
    "print(\"Old d is \", d)\n",
    "d.remove(42)\n",
    "d.remove(42)\n",
    "\n",
    "print(\"New d is \", d)\n",
    "print(\"New d length is \", len(d))"
   ]
  },
  {
   "attachments": {},
   "cell_type": "markdown",
   "metadata": {},
   "source": [
    "Sort list `d` and print the result"
   ]
  },
  {
   "cell_type": "code",
   "execution_count": 30,
   "metadata": {},
   "outputs": [
    {
     "name": "stdout",
     "output_type": "stream",
     "text": [
      "Sorted d is  [0, 3, 4, 5, 10]\n"
     ]
    }
   ],
   "source": [
    "d.sort()\n",
    "\n",
    "print(\"Sorted d is \", d)"
   ]
  },
  {
   "attachments": {},
   "cell_type": "markdown",
   "metadata": {},
   "source": [
    "Reverse list `d` and print the result"
   ]
  },
  {
   "cell_type": "code",
   "execution_count": 31,
   "metadata": {},
   "outputs": [
    {
     "name": "stdout",
     "output_type": "stream",
     "text": [
      "Reversed d is  [10, 5, 4, 3, 0]\n"
     ]
    }
   ],
   "source": [
    "d.reverse()\n",
    "\n",
    "print(\"Reversed d is \", d)"
   ]
  },
  {
   "attachments": {},
   "cell_type": "markdown",
   "metadata": {},
   "source": [
    "Replace the second element in the list with the value `2000`"
   ]
  },
  {
   "cell_type": "code",
   "execution_count": 32,
   "metadata": {},
   "outputs": [
    {
     "name": "stdout",
     "output_type": "stream",
     "text": [
      "New d is  [10, 2000, 4, 3, 0]\n"
     ]
    }
   ],
   "source": [
    "d[1] = 2000\n",
    "\n",
    "print(\"New d is \", d)"
   ]
  },
  {
   "attachments": {},
   "cell_type": "markdown",
   "metadata": {},
   "source": [
    "## Tuples and exception handling:\n",
    "\n",
    "Tuples are a sequential type just as lists - with the difference that their contents cannot be changed after definition i.e. they are *immutable* and no in-place operations are allowed.\n",
    "Tuples can be defined directly or be cast from a list with the `tuple()` function.\n",
    "\n",
    "Define two tuples\n",
    "\n",
    "`a = (1,2,3)`,\n",
    "\n",
    "`b = (4,5,6)`\n",
    "\n",
    "one directly and the other one from a list."
   ]
  },
  {
   "cell_type": "code",
   "execution_count": 33,
   "metadata": {},
   "outputs": [
    {
     "name": "stdout",
     "output_type": "stream",
     "text": [
      "a is  (1, 2, 3)\n",
      "b is  (4, 5, 6)\n"
     ]
    }
   ],
   "source": [
    "a = (1, 2, 3)\n",
    "b = tuple([4, 5, 6])\n",
    "\n",
    "\n",
    "print(\"a is \", a)\n",
    "print(\"b is \", b)"
   ]
  },
  {
   "attachments": {},
   "cell_type": "markdown",
   "metadata": {},
   "source": [
    "Extract the second element of tuple `b` and print it"
   ]
  },
  {
   "cell_type": "code",
   "execution_count": 34,
   "metadata": {},
   "outputs": [
    {
     "name": "stdout",
     "output_type": "stream",
     "text": [
      "Extracted element is  5\n"
     ]
    }
   ],
   "source": [
    "c = b[1]\n",
    "\n",
    "print(\"Extracted element is \", c)"
   ]
  },
  {
   "attachments": {},
   "cell_type": "markdown",
   "metadata": {},
   "source": [
    "Change the second element to `100`\n",
    "\n",
    "If it does not work, catch the exception with a *try/except* clause and print a custom error message (https://docs.python.org/3/tutorial/errors.html#handling-exceptions).\n",
    "\n",
    "Make sure that you would only catch the right type of error."
   ]
  },
  {
   "cell_type": "code",
   "execution_count": 35,
   "metadata": {},
   "outputs": [
    {
     "name": "stdout",
     "output_type": "stream",
     "text": [
      "Error in changing the second element 'tuple' object does not support item assignment\n"
     ]
    }
   ],
   "source": [
    "try:\n",
    "    b[1] = 100\n",
    "except TypeError as ex:\n",
    "    print(\"Error in changing the second element\", ex)\n",
    "    "
   ]
  },
  {
   "attachments": {},
   "cell_type": "markdown",
   "metadata": {},
   "source": [
    "Use *tuple unpacking* to unpack `a` into the variables `a,b,c` in a single operation"
   ]
  },
  {
   "cell_type": "code",
   "execution_count": 37,
   "metadata": {},
   "outputs": [
    {
     "name": "stdout",
     "output_type": "stream",
     "text": [
      "1\n",
      "2\n",
      "3\n"
     ]
    }
   ],
   "source": [
    "a, b, c = a\n",
    "\n",
    "print(a)\n",
    "print(b)\n",
    "print(c)"
   ]
  },
  {
   "attachments": {},
   "cell_type": "markdown",
   "metadata": {},
   "source": [
    "## Dictionaries:"
   ]
  },
  {
   "attachments": {},
   "cell_type": "markdown",
   "metadata": {},
   "source": [
    "Dictionaries are a very handle way to organize small amounts of data.\n",
    "Create and print a dictionary `d` with the key-value pairs \n",
    "\n",
    "$pen-567$, \n",
    "\n",
    "$paper-673$, \n",
    "\n",
    "$keyboard-52$"
   ]
  },
  {
   "cell_type": "code",
   "execution_count": 47,
   "metadata": {},
   "outputs": [
    {
     "name": "stdout",
     "output_type": "stream",
     "text": [
      "{'pen': 567, 'paper': 673, 'keyboard': 52}\n"
     ]
    }
   ],
   "source": [
    "d = {\"pen\": 567, \"paper\": 673, \"keyboard\": 52}\n",
    "\n",
    "print(d)"
   ]
  },
  {
   "attachments": {},
   "cell_type": "markdown",
   "metadata": {},
   "source": [
    "Add the key-value pair $monitor-4$ to `d` and print `d` "
   ]
  },
  {
   "cell_type": "code",
   "execution_count": 43,
   "metadata": {},
   "outputs": [
    {
     "name": "stdout",
     "output_type": "stream",
     "text": [
      "{'pen': 567, 'paper': 673, 'keyboard': 52, 'monitor': 4}\n"
     ]
    }
   ],
   "source": [
    "d[\"monitor\"] = 4\n",
    "\n",
    "print(d)"
   ]
  },
  {
   "attachments": {},
   "cell_type": "markdown",
   "metadata": {},
   "source": [
    "Delete the key '$pen$' and print the keys of `d`"
   ]
  },
  {
   "cell_type": "code",
   "execution_count": 48,
   "metadata": {},
   "outputs": [
    {
     "name": "stdout",
     "output_type": "stream",
     "text": [
      "{'paper': 673, 'keyboard': 52}\n"
     ]
    }
   ],
   "source": [
    "d.pop(\"pen\")\n",
    "#del d[\"pen\"]\n",
    "\n",
    "print(d)"
   ]
  },
  {
   "attachments": {},
   "cell_type": "markdown",
   "metadata": {},
   "source": [
    "Check whether '$paper$' is a key of `d` and if so, print its value."
   ]
  },
  {
   "cell_type": "code",
   "execution_count": 53,
   "metadata": {},
   "outputs": [
    {
     "name": "stdout",
     "output_type": "stream",
     "text": [
      "Key  paper exists with value  673\n"
     ]
    }
   ],
   "source": [
    "if \"paper\" in d:\n",
    "    print(\"Key \", \"paper exists with value \", d[\"paper\"])\n",
    "    \n",
    "else:\n",
    "    print(\"key does not exist\")"
   ]
  },
  {
   "attachments": {},
   "cell_type": "markdown",
   "metadata": {},
   "source": [
    "Check whether '$pen$' is a key of `d` (This can be done without exception handling)"
   ]
  },
  {
   "cell_type": "code",
   "execution_count": 54,
   "metadata": {},
   "outputs": [
    {
     "name": "stdout",
     "output_type": "stream",
     "text": [
      "key does not exist\n"
     ]
    }
   ],
   "source": [
    "if \"pen\" in d:\n",
    "    print(\"Key \", \"paper exists with value \", d[\"pen\"])\n",
    "    \n",
    "else:\n",
    "    print(\"key does not exist\")"
   ]
  },
  {
   "attachments": {},
   "cell_type": "markdown",
   "metadata": {},
   "source": [
    "All immutable types can be keys to dictionaries. \n",
    "\n",
    "Try using a tuple as a key to your dictionary.\n",
    "Afterwards, try using a list."
   ]
  },
  {
   "attachments": {},
   "cell_type": "markdown",
   "metadata": {},
   "source": [
    "## Sets: \n",
    "\n",
    "Create two sets \n",
    "\n",
    "$a = \\{Apple, Peach, Banana, Blueberry\\}$\n",
    "\n",
    "$b = \\{Strawberry, Peach, Banana, Pineapple\\}$\n",
    "\n",
    "and write the code to check whether $a$ or $b$ contains the element '$Pineapple$'"
   ]
  },
  {
   "cell_type": "code",
   "execution_count": 55,
   "metadata": {},
   "outputs": [
    {
     "name": "stdout",
     "output_type": "stream",
     "text": [
      "It is in one of the sets\n"
     ]
    }
   ],
   "source": [
    "a = {\"Apple\", \"Peach\", \"Banana\", \"Blueberry\"}\n",
    "\n",
    "b = {\"Strawberry\", \"Peach\", \"Banana\", \"Pineaple\"}\n",
    "\n",
    "if (\"Pineaple\" in a) or (\"Pineaple\" in b):\n",
    "    print(\"It is in one of the sets\")\n",
    "    \n",
    "else:\n",
    "    print(\"It is in none\")"
   ]
  },
  {
   "attachments": {},
   "cell_type": "markdown",
   "metadata": {},
   "source": [
    "Calculate and print the result of the following expressions\n",
    "\n",
    "$a \\, \\bigcup \\, b$ (Union), \n",
    "$a \\, \\bigcap \\, b$ (Intersection), \n",
    "$a \\, \\setminus \\, b$ (Difference), \n",
    "$a \\, \\triangle \\, b = (a \\, \\setminus \\, b) \\, \\bigcup \\, (b \\, \\setminus \\, a)$ (Symmetric difference)"
   ]
  },
  {
   "cell_type": "code",
   "execution_count": 56,
   "metadata": {},
   "outputs": [
    {
     "name": "stdout",
     "output_type": "stream",
     "text": [
      "a union b  {'Banana', 'Peach', 'Blueberry', 'Strawberry', 'Apple', 'Pineaple'}\n",
      "a intersection b  {'Banana', 'Peach'}\n",
      "a difference b  {'Apple', 'Blueberry'}\n",
      "a symmetric difference b  {'Blueberry', 'Strawberry', 'Apple', 'Pineaple'}\n"
     ]
    }
   ],
   "source": [
    "print(\"a union b \", a.union(b))\n",
    "\n",
    "print(\"a intersection b \", a.intersection(b))\n",
    "\n",
    "print(\"a difference b \", a.difference(b))\n",
    "\n",
    "print(\"a symmetric difference b \", a.symmetric_difference(b))"
   ]
  },
  {
   "attachments": {},
   "cell_type": "markdown",
   "metadata": {},
   "source": [
    "Sets are a handy way of reducing duplicates in sequences. Cast the following list to a set and print the result:"
   ]
  },
  {
   "cell_type": "code",
   "execution_count": 57,
   "metadata": {},
   "outputs": [
    {
     "name": "stdout",
     "output_type": "stream",
     "text": [
      "{'zabaione', 'pasta', 'tiramisu', 'pizza', 'lasagna'}\n"
     ]
    }
   ],
   "source": [
    "food = [\"lasagna\", \"pizza\", \"pasta\", \"zabaione\", \"lasagna\", \"tiramisu\", \"pizza\", \"lasagna\", \"tiramisu\", \"pasta\", \"zabaione\", \"lasagna\", \"pasta\"]\n",
    "\n",
    "print(set(food))"
   ]
  },
  {
   "attachments": {},
   "cell_type": "markdown",
   "metadata": {},
   "source": [
    "# Functions and control structures\n",
    "\n",
    "What you should learn: Functions, lambda expressions, if-elif-else statements, for-loop, while-loop, list-comprehensions, map, zip , enumerate\n",
    "\n",
    "Reference: https://docs.python.org/3/tutorial/controlflow.html"
   ]
  },
  {
   "attachments": {},
   "cell_type": "markdown",
   "metadata": {},
   "source": [
    "## Functions:\n",
    "\n",
    "Define the following polynomial as a Python function with default value $x = 3$:\n",
    "\n",
    "$f(x) =  5x^2 - \\frac{1}{5}x^5$\n",
    "\n",
    "and print the value for:\n",
    "\n",
    "$y = f(2)$"
   ]
  },
  {
   "cell_type": "code",
   "execution_count": 60,
   "metadata": {},
   "outputs": [
    {
     "name": "stdout",
     "output_type": "stream",
     "text": [
      "45\n",
      "20\n"
     ]
    }
   ],
   "source": [
    "def func(x = 3):\n",
    "    return 5 * (x **2) - ((1//5) * (x ** 5))\n",
    "\n",
    "print(func())\n",
    "print(func(2))\n"
   ]
  },
  {
   "attachments": {},
   "cell_type": "markdown",
   "metadata": {},
   "source": [
    "Now implement this polynomial as an anonymous function using a *lambda* expression and evaluate it for $x=2$."
   ]
  },
  {
   "cell_type": "code",
   "execution_count": 61,
   "metadata": {},
   "outputs": [
    {
     "name": "stdout",
     "output_type": "stream",
     "text": [
      "20\n"
     ]
    }
   ],
   "source": [
    "f = lambda x: 5 * (x **2) - ((1//5) * (x ** 5))\n",
    "\n",
    "print(f(2))"
   ]
  },
  {
   "attachments": {},
   "cell_type": "markdown",
   "metadata": {},
   "source": [
    "## Functions are objects:\n",
    "\n",
    "In Python basically everything is an object and that includes functions.\n",
    "\n",
    "Implement a \"meta\" function that takes a value $i$ and returns a function (not a value) that performs \n",
    "$x^i$ for an argument $x$.\n",
    "\n",
    "Test the meta function with $i=3$ and the resulting function with $x=5$."
   ]
  },
  {
   "cell_type": "code",
   "execution_count": 62,
   "metadata": {},
   "outputs": [
    {
     "name": "stdout",
     "output_type": "stream",
     "text": [
      "125\n"
     ]
    }
   ],
   "source": [
    "def meta_function(i):\n",
    "        return lambda x: (x ** i)\n",
    "\n",
    "test = meta_function(3)\n",
    "    \n",
    "    \n",
    "print(test(5))"
   ]
  },
  {
   "attachments": {},
   "cell_type": "markdown",
   "metadata": {},
   "source": [
    "## If-elif-else statement:"
   ]
  },
  {
   "attachments": {},
   "cell_type": "markdown",
   "metadata": {},
   "source": [
    "Modify function $f$ using a `if-elif-else` statement such that it returns the value of the polynomial only if $0<=x<=10$ and returns $f(0)$ for $x<0$ and $f(10)$ for $x > 10$."
   ]
  },
  {
   "cell_type": "code",
   "execution_count": 64,
   "metadata": {},
   "outputs": [
    {
     "name": "stdout",
     "output_type": "stream",
     "text": [
      "0.0\n",
      "-500.0\n",
      "-19500.0\n"
     ]
    }
   ],
   "source": [
    "def my_function(x = 3):\n",
    "    f = lambda x: 5 * (x **2) - ((1/5) * (x ** 5))\n",
    "    \n",
    "    if x < 0:\n",
    "        return f(0)\n",
    "    \n",
    "    elif x > 10:\n",
    "        return f(10)\n",
    "    \n",
    "    else:\n",
    "        return f(x)\n",
    "    \n",
    "\n",
    "print(my_function(-2))\n",
    "print(my_function(5))\n",
    "print(my_function(12))\n",
    "\n"
   ]
  },
  {
   "attachments": {},
   "cell_type": "markdown",
   "metadata": {},
   "source": [
    "## For-Loop:"
   ]
  },
  {
   "attachments": {},
   "cell_type": "markdown",
   "metadata": {},
   "source": [
    "Use a for-loop and the `range` function to print the values of $f$ between -8 and 36 with stepsize 5:"
   ]
  },
  {
   "cell_type": "code",
   "execution_count": 65,
   "metadata": {},
   "outputs": [
    {
     "name": "stdout",
     "output_type": "stream",
     "text": [
      "320\n",
      "45\n",
      "20\n",
      "245\n",
      "720\n",
      "1445\n",
      "2420\n",
      "3645\n",
      "5120\n"
     ]
    }
   ],
   "source": [
    "for x in range(-8, 36, 5):\n",
    "    print(f(x))\n",
    "    "
   ]
  },
  {
   "attachments": {},
   "cell_type": "markdown",
   "metadata": {},
   "source": [
    "In Python, you can loop over any `iterable` type! \n",
    "Apply your function to this list with a for-loop again.\n",
    "\n",
    "Use the `continue` statement to skip the output when the current list element is even and the `break` statement to leave the loop once the current list element is negative."
   ]
  },
  {
   "cell_type": "code",
   "execution_count": 68,
   "metadata": {},
   "outputs": [
    {
     "name": "stdout",
     "output_type": "stream",
     "text": [
      "5\n",
      "5\n",
      "45\n",
      "125\n"
     ]
    }
   ],
   "source": [
    "l = [1, 1, 2, 3, 5, 8, -3, -2, -1]\n",
    "\n",
    "def myFunctionList(l):\n",
    "    for x in l:\n",
    "        if x < 0:\n",
    "            break\n",
    "        if x % 2 == 0:\n",
    "            continue\n",
    "        else:\n",
    "            print(f(x))\n",
    "    \n",
    "myFunctionList(l)"
   ]
  },
  {
   "attachments": {},
   "cell_type": "markdown",
   "metadata": {},
   "source": [
    "Loop over a string of your choosing and print every character."
   ]
  },
  {
   "cell_type": "code",
   "execution_count": 69,
   "metadata": {},
   "outputs": [
    {
     "name": "stdout",
     "output_type": "stream",
     "text": [
      "a\n",
      "b\n",
      "c\n",
      "d\n",
      "e\n",
      "f\n",
      "g\n",
      "h\n",
      "i\n",
      "j\n",
      "k\n",
      "l\n",
      "m\n",
      "n\n",
      "o\n",
      "p\n",
      "q\n",
      "r\n",
      "s\n",
      "t\n",
      "u\n",
      "v\n",
      "w\n",
      "x\n",
      "y\n",
      "z\n"
     ]
    }
   ],
   "source": [
    "string = \"abcdefghijklmnopqrstuvwxyz\"\n",
    "\n",
    "for x in string:\n",
    "    print(x)"
   ]
  },
  {
   "attachments": {},
   "cell_type": "markdown",
   "metadata": {},
   "source": [
    "You can also loop over dictionaries. Try it and comment what happens."
   ]
  },
  {
   "cell_type": "code",
   "execution_count": 70,
   "metadata": {},
   "outputs": [
    {
     "name": "stdout",
     "output_type": "stream",
     "text": [
      "Key:  pen , Value:  567\n",
      "Key:  paper , Value:  673\n",
      "Key:  keyboard , Value:  52\n"
     ]
    }
   ],
   "source": [
    "d = {\"pen\": 567, \"paper\": 673, \"keyboard\": 52}\n",
    "\n",
    "for x in d:\n",
    "    print(\"Key: \", x, \",\",\"Value: \", d[x])\n",
    "    "
   ]
  },
  {
   "attachments": {},
   "cell_type": "markdown",
   "metadata": {},
   "source": [
    "## List comprehensions:"
   ]
  },
  {
   "attachments": {},
   "cell_type": "markdown",
   "metadata": {},
   "source": [
    "List comprehensions are a pythonic way of looping. Create a list $a$ with all even numbers between $0$ and $20$ and a list $b$ with all odd numbers between $0$ and $20$ using list comprehensions and the modulo operator (both $0$ and $20$ are exclusive)."
   ]
  },
  {
   "cell_type": "code",
   "execution_count": 72,
   "metadata": {},
   "outputs": [
    {
     "name": "stdout",
     "output_type": "stream",
     "text": [
      "[2, 4, 6, 8, 10, 12, 14, 16, 18]\n",
      "[1, 3, 5, 7, 9, 11, 13, 15, 17, 19]\n"
     ]
    }
   ],
   "source": [
    "a = [x for x in range(1, 20) if x %2  == 0]\n",
    "b = [x for x in range(1, 20) if x % 2 != 0]\n",
    "\n",
    "print(a)\n",
    "print(b)\n",
    "\n",
    "\n",
    "\n",
    "\n",
    "\n",
    "\n",
    "    \n",
    "\n"
   ]
  },
  {
   "attachments": {},
   "cell_type": "markdown",
   "metadata": {},
   "source": [
    "Use a list comprehension to square all the numbers in list $a$."
   ]
  },
  {
   "cell_type": "code",
   "execution_count": 73,
   "metadata": {},
   "outputs": [
    {
     "name": "stdout",
     "output_type": "stream",
     "text": [
      "[4, 16, 36, 64, 100, 144, 196, 256, 324]\n"
     ]
    }
   ],
   "source": [
    "a = [(x ** 2) for x in a]\n",
    "\n",
    "print(a)"
   ]
  },
  {
   "attachments": {},
   "cell_type": "markdown",
   "metadata": {},
   "source": [
    "## While-Loop:"
   ]
  },
  {
   "attachments": {},
   "cell_type": "markdown",
   "metadata": {},
   "source": [
    "Print $f(x)$ starting from $0$ as long as the function $f$ returns a value bigger than $-100$ using a while loop."
   ]
  },
  {
   "cell_type": "code",
   "execution_count": 74,
   "metadata": {},
   "outputs": [
    {
     "name": "stdout",
     "output_type": "stream",
     "text": [
      "0.0\n",
      "4.8\n",
      "13.6\n",
      "-3.6000000000000014\n"
     ]
    }
   ],
   "source": [
    "f = lambda x: 5 * (x ** 2) - (1/5 * (x ** 5))\n",
    "i = 0\n",
    "\n",
    "while f(i) > -100:\n",
    "    print(f(i))\n",
    "    i += 1\n",
    "    \n",
    "    "
   ]
  },
  {
   "attachments": {},
   "cell_type": "markdown",
   "metadata": {},
   "source": [
    "# Built-in functions"
   ]
  },
  {
   "attachments": {},
   "cell_type": "markdown",
   "metadata": {},
   "source": [
    "Python has quite a few useful shortcuts built into the core language.\n",
    "\n",
    "Reference: https://docs.python.org/3/library/functions.html#built-in-functions"
   ]
  },
  {
   "attachments": {},
   "cell_type": "markdown",
   "metadata": {},
   "source": [
    "## Map:\n",
    "\n",
    "If you simply want to apply a function to a sequence of values, you can use the `map` function. `map` applies a function to every entry of an iterable type provides you the results as an iterable. \n",
    "\n",
    "Use it to apply your $f$ to each element in `l` and print the result. (Warning: Python 3 will often produce *generators* that generate the values lazily only when needed. You can either iterate through a generator or cast them to a list using the `list()` function.)"
   ]
  },
  {
   "cell_type": "code",
   "execution_count": 75,
   "metadata": {},
   "outputs": [
    {
     "name": "stdout",
     "output_type": "stream",
     "text": [
      "[4.8, 4.8, 13.6, -3.6000000000000014, -500.0, -6233.6, 93.6, 26.4, 5.2]\n"
     ]
    }
   ],
   "source": [
    "l = [1, 1, 2, 3, 5, 8, -3, -2, -1]\n",
    "\n",
    "print(list(map(f, l)))\n"
   ]
  },
  {
   "attachments": {},
   "cell_type": "markdown",
   "metadata": {},
   "source": [
    "## Zip function:"
   ]
  },
  {
   "attachments": {},
   "cell_type": "markdown",
   "metadata": {},
   "source": [
    "Loop through `a` and `b` at the same time using the `zip` function, this can either be done using a for loop or a list comprehension. "
   ]
  },
  {
   "cell_type": "code",
   "execution_count": 81,
   "metadata": {},
   "outputs": [
    {
     "name": "stdout",
     "output_type": "stream",
     "text": [
      "Hairy Monkey\n",
      "Slimy Snail\n",
      "Witty Parrot\n"
     ]
    }
   ],
   "source": [
    "a = [\"Hairy\", \"Slimy\", \"Witty\"]\n",
    "b = [\"Monkey\", \"Snail\", \"Parrot\"]\n",
    "\n",
    "for a, b in zip(a, b):\n",
    "    print(a, b)\n"
   ]
  },
  {
   "attachments": {},
   "cell_type": "markdown",
   "metadata": {},
   "source": [
    "## Emumerate:\n",
    "\n",
    "Use the `enumerate` function to loop through (index, item)-tuples for all elements in `b`. Use tuple unpacking in the loop to print index and item separately."
   ]
  },
  {
   "cell_type": "code",
   "execution_count": 2,
   "metadata": {},
   "outputs": [
    {
     "name": "stdout",
     "output_type": "stream",
     "text": [
      "index: 0 \t item: Monkey\n",
      "index: 1 \t item: Snail\n",
      "index: 2 \t item: Parrot\n"
     ]
    }
   ],
   "source": [
    "b = [\"Monkey\", \"Snail\", \"Parrot\"]\n",
    "\n",
    "for (index, item) in enumerate(b):\n",
    "    print(f'index: {index} \\t item: {item}')\n"
   ]
  },
  {
   "attachments": {},
   "cell_type": "markdown",
   "metadata": {},
   "source": [
    "# OOP and raising exceptions"
   ]
  },
  {
   "attachments": {},
   "cell_type": "markdown",
   "metadata": {},
   "source": [
    "Python is an object-oriented language (we assume you know about OOP from your previous programming courses). Make sure to read \n",
    "https://docs.python.org/3/tutorial/classes.html before tackling these exercises. It's okay to just focus on the examples."
   ]
  },
  {
   "attachments": {},
   "cell_type": "markdown",
   "metadata": {},
   "source": [
    "Create a class `Vector` that gets a list of values as initialization for the vector coordinates. Now implement three methods:\n",
    "\n",
    "\n",
    "* A method `norm()` should implement calculating the Euclidean norm (AKA 2-norm) of a vector, so that you can just do `v.norm()` if `v` is your `Vector` object. \n",
    "\n",
    "* `scalar_multiplication()` should implement a multiplication with a scalar and return a new object of the `Vector` class as a result **without** changing the value of the current vector, so that you can do `u=v.scalar_multiplication(3)`.\n",
    "\n",
    "* `inner_product()` should get a `Vector` object and return a scalar according to the definition of the inner product https://en.wikipedia.org/wiki/Dot_product#Algebraic_definition. Make sure that the method raises a `ValueError` exception when the dimensions (number of entries) of the vectors do not match.\n",
    "\n",
    "Your class should be able to work with vectors of arbitrary dimension.\n",
    "\n",
    "Comment your methods with doc-strings (https://www.python.org/dev/peps/pep-0257/).\n",
    "\n",
    "Pro tip: the mathematical part of the 'inner_product()' can be implemented in a single line."
   ]
  },
  {
   "cell_type": "code",
   "execution_count": 3,
   "metadata": {},
   "outputs": [
    {
     "name": "stdout",
     "output_type": "stream",
     "text": [
      "5.0\n",
      "<__main__.Vector object at 0x00000162E5780CD0>\n",
      "46\n"
     ]
    }
   ],
   "source": [
    "class Vector:\n",
    "    # constructor\n",
    "    def __init__(self, coordinatesList):\n",
    "        self.coordinatesList = coordinatesList \n",
    "        \n",
    "    # methods\n",
    "        \"\"\"normalizes the vector\n",
    "        \"\"\"\n",
    "    def norm(self):\n",
    "        norm = 0\n",
    "        for x in self.coordinatesList:\n",
    "            norm += (x ** 2)\n",
    "            \n",
    "        return ((norm) ** (1/2))\n",
    "    \n",
    "        \"\"\"multiplies the vector with a scalar\n",
    "        \"\"\"\n",
    "    def scalar_multiplication(self, scalar):\n",
    "        newVector = [(scalar * x) for x in self.coordinatesList]\n",
    "        return Vector(newVector)\n",
    "    \n",
    "        \"\"\"return scalar of the inner product of this vector and another vector\n",
    "        \"\"\"\n",
    "    def inner_product(self, Vector):\n",
    "        result = 0\n",
    "        index = 0\n",
    "        if(len(Vector.coordinatesList) == len(self.coordinatesList)):\n",
    "            while index < len(self.coordinatesList):\n",
    "                result += (self.coordinatesList[index] * Vector.coordinatesList[index])\n",
    "                index += 1\n",
    "            \n",
    "        else:\n",
    "            raise ValueError(\"Unequal legth coordinates\")\n",
    "        return result\n",
    "    \n",
    "\n",
    "vector1 = Vector([3, 4])\n",
    "vector2 = Vector([6,7])\n",
    "\n",
    "print(vector1.norm())\n",
    "print(vector1.scalar_multiplication(2))\n",
    "print(vector2.inner_product(vector1))\n",
    "            \n",
    "        "
   ]
  },
  {
   "attachments": {},
   "cell_type": "markdown",
   "metadata": {},
   "source": [
    "Now create a class `FlexiVector` that inherits from `Vector` class but implements a `product()` method that chooses either the 'scalar_multiplication()' or the 'inner_product()' function based on the type of the provided argument. You can check the type of an object with the `isinstance()` function."
   ]
  },
  {
   "cell_type": "code",
   "execution_count": 4,
   "metadata": {},
   "outputs": [
    {
     "name": "stdout",
     "output_type": "stream",
     "text": [
      "[4, 5, 6]\n",
      "122\n"
     ]
    }
   ],
   "source": [
    "class Flexivector(Vector):\n",
    "    \"\"\"chooses dot or inner product\"\"\"\n",
    "    def product(self, args):\n",
    "        if isinstance(args, Vector):\n",
    "            return self.inner_product(args)\n",
    "        elif isinstance(args, (int, float, complex)):\n",
    "            return self.scalar_multiplication(args)\n",
    "        else:\n",
    "            raise TypeError(\"Invalid type\")\n",
    "          \n",
    "vector3 = Vector([7, 8, 9])\n",
    "flexiVector = Flexivector([4, 5, 6])\n",
    "print(list(flexiVector.coordinatesList))\n",
    "print(flexiVector.product(vector3))\n",
    "\n",
    "        "
   ]
  },
  {
   "attachments": {},
   "cell_type": "markdown",
   "metadata": {},
   "source": [
    "### Pitfalls of Object Oriented Programming"
   ]
  },
  {
   "attachments": {},
   "cell_type": "markdown",
   "metadata": {},
   "source": [
    "Defining abstract objects in your code is not all milk and honey. Using OOP patterns improperly may lead to code that is hard to read and maintain. \n",
    "\n",
    "* OOP distracts from the data the program logic is supposed to operate on. \n",
    "* OOP encourages developing extensive networks of interdependent classes, to the effect that program logic gets spread thinly throughout the code.\n",
    "  * Choose carefully what should be a class. Does the new class really make the code clearer and more usable?\n",
    "  * Write only features (e.g. methods) that [you are sure will be used](https://en.wikipedia.org/wiki/You_aren%27t_gonna_need_it) and avoid [side-effects](https://en.wikipedia.org/wiki/Side_effect_(computer_science)).\n",
    "  * Practice [continuous refactoring](https://medium.com/young-coder/refactoring-and-the-art-of-improvement-19735563fbc2).\n",
    "* Inheritance may lead to obfuscation of program logic: It can become unclear what logic is actually run and on what fields it is operating.\n",
    "* Classes are abstractions that may provide interfaces that are insufficient. OOP then fails to properly encapsulate and hide functionality leading to so-called [leaky abstractions](https://en.wikipedia.org/wiki/Leaky_abstraction). You find yourself fighting against the byzantine architecture you yourself introduced.\n",
    "* Code relying heavily on OOP tends to be slower because OOP introduces many additional references and checks."
   ]
  },
  {
   "attachments": {},
   "cell_type": "markdown",
   "metadata": {},
   "source": [
    "#### More food for thought regarding OOP:"
   ]
  },
  {
   "attachments": {},
   "cell_type": "markdown",
   "metadata": {},
   "source": [
    "Pro OOP:\n",
    "* [The Case Against OOP is Wildly Overstated](https://medium.com/young-coder/the-case-against-oop-is-wildly-overstated-572eae5ab495)\n",
    "\n",
    "Against OOP:\n",
    " * [Arguments Against Oop](http://wiki.c2.com/?ArgumentsAgainstOop=)\n",
    " * [The faster you unlearn OOP, the better for you and your software](https://dpc.pw/the-faster-you-unlearn-oop-the-better-for-you-and-your-software)\n",
    " * [If everyone hates it, why is OOP still so widespread?](https://stackoverflow.blog/2020/09/02/if-everyone-hates-it-why-is-oop-still-so-widely-spread/)"
   ]
  },
  {
   "attachments": {},
   "cell_type": "markdown",
   "metadata": {},
   "source": [
    "# Generators\n",
    "\n",
    "In some situations when we want to loop over an iterable, we actually don't need the whole content of the iterable in memory at once. Instead, it suffices to have the contents of the iterable available item by item. As an easy, intuitive and memory-efficient solution for such situations Python provides a concept called `generator`.\n",
    "\n",
    "Generators are implemented as functions that do not return a single value but multiple values using the `yield` keyword. Between individual function calls, the state of the generator is saved such that execution can continue once the function is called again. When iterating over a generator, it is evaluated lazily at the moment of each call which means future elements have not yet been evaluated (and stored in memory) and past elements may have been garbage collected already. Using generators, we can e.g. create an iterable that produces numbers from the Fibonacci sequence indefinitely with a very small memory footprint. This would be impossible using lists.\n",
    "\n",
    "Reference: https://wiki.python.org/moin/Generators\n",
    "\n",
    "To see generators in action, implement one that creates the first $n$ numbers of the Fibonacci sequence 1, 1, 2, 3, 5, ... and use it in a for-loop."
   ]
  },
  {
   "cell_type": "code",
   "execution_count": 7,
   "metadata": {},
   "outputs": [
    {
     "name": "stdout",
     "output_type": "stream",
     "text": [
      "0\n",
      "1\n",
      "1\n",
      "2\n",
      "3\n",
      "5\n",
      "8\n",
      "13\n",
      "21\n",
      "34\n"
     ]
    }
   ],
   "source": [
    "\"\"\"generator creating fibonacci sequence\n",
    "    \"\"\"\n",
    "def fibonacciGenerator(n):\n",
    "    x, y, index = 0, 1, 0\n",
    "    \n",
    "    while index < n:\n",
    "        yield x \n",
    "        x, y = y, y + x\n",
    "        index += 1\n",
    "        \n",
    "\n",
    "\n",
    "fib_gen = fibonacciGenerator(10)\n",
    "\n",
    "for x in fib_gen:\n",
    "    print(x)\n"
   ]
  },
  {
   "attachments": {},
   "cell_type": "markdown",
   "metadata": {},
   "source": [
    "# Imports and simple timing\n",
    "\n",
    "Python has a large number of core modules that provide additional functions. They can be imported using the `import` statement. See https://www.tutorialspoint.com/python/python_modules.htm\n",
    "\n",
    "\n",
    "\n",
    "Import the 'time' and 'random' modules."
   ]
  },
  {
   "cell_type": "code",
   "execution_count": 9,
   "metadata": {},
   "outputs": [],
   "source": [
    "import time\n",
    "import random\n",
    "\n"
   ]
  },
  {
   "attachments": {},
   "cell_type": "markdown",
   "metadata": {},
   "source": [
    "Use the time modules 'time()' function to check how fast your `Vector` class calculates the inner product. Print the result in miliseconds (or microseconds, if mili is too small).\n",
    "\n",
    "Average your results over $20$ runs by generating two random vectors in each run. Print averages for vector dimensions (i.e., number of entries) $2^i,$ for $i=\\{0,\\cdots,15\\}$.\n",
    "\n",
    "Take a look at:\n",
    "\n",
    "https://docs.python.org/3/library/time.html#time.time\n",
    "\n",
    "https://docs.python.org/3/library/random.html#random.uniform"
   ]
  },
  {
   "cell_type": "code",
   "execution_count": 14,
   "metadata": {},
   "outputs": [
    {
     "name": "stdout",
     "output_type": "stream",
     "text": [
      "dim: 0   \t avr: 0.0\n",
      "dim: 1   \t avr: 0.0\n",
      "dim: 2   \t avr: 0.0\n",
      "dim: 3   \t avr: 25195.0\n",
      "dim: 4   \t avr: 0.0\n",
      "dim: 5   \t avr: 0.0\n",
      "dim: 6   \t avr: 50140.0\n",
      "dim: 7   \t avr: 76050.0\n",
      "dim: 8   \t avr: 75020.0\n",
      "dim: 9   \t avr: 199960.0\n",
      "dim: 10   \t avr: 374890.0\n",
      "dim: 11   \t avr: 649290.0\n",
      "dim: 12   \t avr: 1525170.0\n",
      "dim: 13   \t avr: 2722835.0\n",
      "dim: 14   \t avr: 4846830.0\n",
      "dim: 15   \t avr: 9673080.0\n"
     ]
    }
   ],
   "source": [
    "\"\"\"\n",
    "adding random elements to a list\n",
    "def addRand(myList, i):\n",
    "    for k in range(1, i+1):\n",
    "        rand = random.randint(0, 10)\n",
    "        myList.append(rand)\n",
    "    return myList\n",
    "\n",
    "measuring time it takes for inner product\n",
    "def measureTime(Vector1, Vector2):\n",
    "    t1 = time.time()\n",
    "    Vector1.inner_product(Vector2)\n",
    "    t2 = time.time()\n",
    "    return t2 - t1\n",
    "\n",
    "checking for 20 rounds or 2**i Vectors\n",
    "def avTime():\n",
    "    resultTime = 0\n",
    "    exps = []\n",
    "    testList1 = []\n",
    "    testList2 = []\n",
    "\n",
    "    #creating list with exponents of 2\n",
    "    for j in range(0, 16):\n",
    "        number = 2 ** j\n",
    "        exps.append(number)\n",
    "\n",
    "    #creating vectors for all exponents of 2\n",
    "    for k in exps:\n",
    "        average = 0\n",
    "        for l in range(1, 21):\n",
    "            testList1.clear()\n",
    "            testList2.clear()\n",
    "            \n",
    "            #creating lists\n",
    "            testList1 = addRand(testList1, k)\n",
    "            testList2 = addRand(testList2, k)\n",
    "\n",
    "            #creating vectors from lists\n",
    "            testVector1 = Vector(testList1)\n",
    "            testVector2 = Vector(testList2)\n",
    "            average += measureTime(testVector1, testVector2)\n",
    "        average = average / 20\n",
    "        print(\"For vectors length:\", k, \"Average time:\", average)\n",
    "\n",
    "\n",
    "avTime()\n",
    "\n",
    "\n",
    "# 2nd Aproach\n",
    "# def func to calc runtime of vector inner_product\n",
    "def calc_time(vec01, vec02):\n",
    "    t_before = time.time()\n",
    "    vec01.inner_product(vec02)\n",
    "    t_after = time.time()\n",
    "    return t_after - t_before\n",
    "\n",
    "# generate random list\n",
    "def gen_random_list(dimension):\n",
    "    rand_list01 = [random.random() for _ in range(dimension)]\n",
    "    rand_list02 = [random.random() for _ in range(dimension)]\n",
    "    return (Vector(rand_list01), Vector(rand_list02))\n",
    "\n",
    "# calc time for n times\n",
    "def calc_time_multiple(n):\n",
    "    ave_time = 0\n",
    "    dimensions = [2**i for i in range(16)];\n",
    "    for t in range(n):\n",
    "        for dim in dimensions:\n",
    "            random_tupel = gen_random_list(dim)\n",
    "            ave_time += calc_time(random_tupel[0], random_tupel[1])\n",
    "    return ave_time / n * 1000\n",
    "\n",
    "print(\"Average run time on 15 times loop: \", calc_time_multiple(15), \" ms\")\n",
    "\"\"\"\n",
    "\n",
    "# 3nd Approach\n",
    "for i in range(15+1):\n",
    "    avr = 0.0\n",
    "    for j in range(20):\n",
    "        u = Vector([random.uniform(-10, 10) for x in range(2**i)])\n",
    "        v = Vector([random.uniform(-10, 10) for x in range(2**i)])\n",
    "        \n",
    "        start = time.time_ns()\n",
    "        u.inner_product(v)\n",
    "        avr += time.time_ns() - start\n",
    "        \n",
    "    avr /= 20.0\n",
    "    print(f'dim: {i}   \\t avr: {avr}')\n",
    "\n"
   ]
  },
  {
   "attachments": {},
   "cell_type": "markdown",
   "metadata": {},
   "source": [
    "## File Handling with Pickle\n",
    "\n",
    "Pickle is a module that can be used for serializing and de-serializing Python objects. \"Pickling\" out-of-the-box converts almost any Python object (apart from a few cases, like generators and lambda functions) into a character stream that can be saved to disk, where the character stream contains all the information that's needed to rebuild the object by the same or another Python program.\n",
    "\n",
    "You can pickle the following object types:\n",
    "\n",
    "- normal and unicode strings\n",
    "- integers, floats, complex numbers\n",
    "- lists, dictionaries, tuples, sets\n",
    "- None, True and False\n",
    "- (built-in) functions and classes defined at a module's top level\n",
    "\n",
    "The following code imports the pickle module, defines a list of colors and then saves that into the file 'colors.p'.\n",
    "The `with open('colors.p', 'wb') as f:` creates a file with the name 'colors.p' and opens it in writing in binary mode ('wb'). The function `pickle.dump(object,file)` takes the object you want to pickle in its first argument, and the fileobject that you want to save the object to as its second argument.\n"
   ]
  },
  {
   "cell_type": "code",
   "execution_count": 15,
   "metadata": {},
   "outputs": [],
   "source": [
    "import pickle\n",
    "colors = [\n",
    "    'Green', \n",
    "    'Yellow', \n",
    "    'Orange', \n",
    "    'Red',\n",
    "    'Blue',\n",
    "    'Brown',\n",
    "    'White',\n",
    "    'Black'\n",
    "]\n",
    "with open('colors.p', 'wb') as f:\n",
    "    pickle.dump(colors, f)"
   ]
  },
  {
   "attachments": {},
   "cell_type": "markdown",
   "metadata": {},
   "source": [
    "Unpickling a pickled file is quite similar: `open()` the file again but now use the `rb` flag (for reading in binary mode), and use `pickle.load()` to assign it to a new variable and then print it.\n",
    "\n",
    "Take a look at:\n",
    "https://docs.python.org/3/library/pickle.html\n"
   ]
  },
  {
   "cell_type": "code",
   "execution_count": 19,
   "metadata": {},
   "outputs": [
    {
     "name": "stdout",
     "output_type": "stream",
     "text": [
      "['Green', 'Yellow', 'Orange', 'Red', 'Blue', 'Brown', 'White', 'Black']\n"
     ]
    }
   ],
   "source": [
    "\"\"\"file = open('colors.p', 'rb')\n",
    "data = pickle.load(file)\n",
    "\n",
    "count = 0\n",
    "for item in data:\n",
    "    print('The data ', count, ' is : ', item)\n",
    "    count += 1\"\"\"\n",
    "\n",
    "with open('colors.p', 'rb') as f:\n",
    "    colors = pickle.load(f)\n",
    "    print(colors)\n"
   ]
  }
 ],
 "metadata": {
  "kernelspec": {
   "display_name": "Python 3 (ipykernel)",
   "language": "python",
   "name": "python3"
  },
  "language_info": {
   "codemirror_mode": {
    "name": "ipython",
    "version": 3
   },
   "file_extension": ".py",
   "mimetype": "text/x-python",
   "name": "python",
   "nbconvert_exporter": "python",
   "pygments_lexer": "ipython3",
   "version": "3.11.4"
  },
  "vscode": {
   "interpreter": {
    "hash": "e39fb30f224a72363915e5ef5890e898bd3af12515c66274d9db63e77a6a0337"
   }
  }
 },
 "nbformat": 4,
 "nbformat_minor": 4
}
